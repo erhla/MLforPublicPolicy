{
 "cells": [
  {
   "cell_type": "markdown",
   "metadata": {},
   "source": [
    "# Lab 4: Ensemble Models\n",
    "\n",
    "\n",
    "In this lab we'll get some hands on experience with ensemble classifiers we've seen in class\n"
   ]
  },
  {
   "cell_type": "markdown",
   "metadata": {},
   "source": [
    "## Goals for this lab\n",
    "\n",
    "- Understand the practical implications for changing the parameters used in ensemble models such as bagging, boosting, and random forests.\n",
    "\n",
    "- Bagging: Bagging algorithm involves generating ‘n’ different bootstrap training samples with replacement. And training the algorithm on each bootstrapped algorithm separately and then aggregating the predictions at the end. The goal is to increase number of models and decrease correlation between.\n",
    "\n",
    "- Boosting: Grow a committee of weak learners (high bias) which evolves over time. Better than bagging\n",
    "\n",
    "- Random Forests: If there is a very strong feature then bagged trees will always use it and end up correlated. RF addresses the issue by eliminating part of features before training each decision tree.\n",
    "\n"
   ]
  },
  {
   "cell_type": "code",
   "execution_count": 2,
   "metadata": {
    "collapsed": true
   },
   "outputs": [],
   "source": [
    "import matplotlib.pyplot as plt\n",
    "import numpy as np\n",
    "import pandas as pd\n",
    "from sklearn.ensemble import BaggingClassifier,AdaBoostClassifier\n",
    "from sklearn.model_selection import train_test_split\n",
    "from sklearn.metrics import accuracy_score as accuracy\n",
    "from sklearn.metrics import roc_curve, auc\n",
    "import graphviz # If you don't have this, install via pip/conda\n",
    "from sklearn.metrics import f1_score, precision_recall_curve\n",
    "from sklearn.linear_model import LogisticRegression\n",
    "%matplotlib inline\n",
    "\n",
    "# exercise: what additional modules should you import?"
   ]
  },
  {
   "cell_type": "markdown",
   "metadata": {},
   "source": [
    "# Data\n",
    "We'll continue to use the same data as in the previous lab.\n",
    "\n",
    "It is a subset of the data set from https://www.kaggle.com/new-york-state/nys-patient-characteristics-survey-pcs-2015\n",
    "\n",
    "The data has been downloaded, modified, and is in the github repo for the lab\n",
    "\n",
    "You should also try this with other data sets you have been provided for the homeworks."
   ]
  },
  {
   "cell_type": "code",
   "execution_count": 5,
   "metadata": {
    "collapsed": true
   },
   "outputs": [],
   "source": [
    "# Change this to wherever you're storing your data\n",
    "datafile = '../data/nysmedicaldata.csv'\n",
    "df = pd.read_csv(datafile)"
   ]
  },
  {
   "cell_type": "code",
   "execution_count": 6,
   "metadata": {},
   "outputs": [
    {
     "data": {
      "text/html": [
       "<div>\n",
       "<style>\n",
       "    .dataframe thead tr:only-child th {\n",
       "        text-align: right;\n",
       "    }\n",
       "\n",
       "    .dataframe thead th {\n",
       "        text-align: left;\n",
       "    }\n",
       "\n",
       "    .dataframe tbody tr th {\n",
       "        vertical-align: top;\n",
       "    }\n",
       "</style>\n",
       "<table border=\"1\" class=\"dataframe\">\n",
       "  <thead>\n",
       "    <tr style=\"text-align: right;\">\n",
       "      <th></th>\n",
       "      <th>Region Served</th>\n",
       "      <th>Age Group</th>\n",
       "      <th>Sex</th>\n",
       "      <th>Transgender</th>\n",
       "      <th>Sexual Orientation</th>\n",
       "      <th>Hispanic Ethnicity</th>\n",
       "      <th>Race</th>\n",
       "      <th>Living Situation</th>\n",
       "      <th>Household Composition</th>\n",
       "      <th>Preferred Language</th>\n",
       "      <th>...</th>\n",
       "      <th>No Insurance</th>\n",
       "      <th>Unknown Insurance Coverage</th>\n",
       "      <th>Medicaid Insurance</th>\n",
       "      <th>Medicaid Managed Insurance</th>\n",
       "      <th>Medicare Insurance</th>\n",
       "      <th>Private Insurance</th>\n",
       "      <th>Child Health Plus Insurance</th>\n",
       "      <th>Other Insurance</th>\n",
       "      <th>Criminal Justice Status</th>\n",
       "      <th>Three Digit Residence Zip Code</th>\n",
       "    </tr>\n",
       "  </thead>\n",
       "  <tbody>\n",
       "    <tr>\n",
       "      <th>0</th>\n",
       "      <td>HUDSON RIVER REGION</td>\n",
       "      <td>ADULT</td>\n",
       "      <td>MALE</td>\n",
       "      <td>NO, NOT TRANSGENDER</td>\n",
       "      <td>STRAIGHT OR HETEROSEXUAL</td>\n",
       "      <td>YES</td>\n",
       "      <td>OTHER</td>\n",
       "      <td>OTHER LIVING SITUATION</td>\n",
       "      <td>NOT APPLICABLE</td>\n",
       "      <td>ENGLISH</td>\n",
       "      <td>...</td>\n",
       "      <td>NO</td>\n",
       "      <td>NO</td>\n",
       "      <td>YES</td>\n",
       "      <td>NO</td>\n",
       "      <td>NO</td>\n",
       "      <td>NO</td>\n",
       "      <td>NO</td>\n",
       "      <td>NO</td>\n",
       "      <td>YES</td>\n",
       "      <td>113</td>\n",
       "    </tr>\n",
       "    <tr>\n",
       "      <th>1</th>\n",
       "      <td>NEW YORK CITY REGION</td>\n",
       "      <td>ADULT</td>\n",
       "      <td>MALE</td>\n",
       "      <td>NO, NOT TRANSGENDER</td>\n",
       "      <td>STRAIGHT OR HETEROSEXUAL</td>\n",
       "      <td>NO, NOT HISPANIC/LATINO</td>\n",
       "      <td>WHITE ONLY</td>\n",
       "      <td>INSTITUTIONAL SETTING</td>\n",
       "      <td>NOT APPLICABLE</td>\n",
       "      <td>ENGLISH</td>\n",
       "      <td>...</td>\n",
       "      <td>NO</td>\n",
       "      <td>NO</td>\n",
       "      <td>YES</td>\n",
       "      <td>NO</td>\n",
       "      <td>UNKNOWN</td>\n",
       "      <td>NO</td>\n",
       "      <td>NO</td>\n",
       "      <td>UNKNOWN</td>\n",
       "      <td>YES</td>\n",
       "      <td>113</td>\n",
       "    </tr>\n",
       "    <tr>\n",
       "      <th>2</th>\n",
       "      <td>HUDSON RIVER REGION</td>\n",
       "      <td>ADULT</td>\n",
       "      <td>MALE</td>\n",
       "      <td>NO, NOT TRANSGENDER</td>\n",
       "      <td>STRAIGHT OR HETEROSEXUAL</td>\n",
       "      <td>NO, NOT HISPANIC/LATINO</td>\n",
       "      <td>WHITE ONLY</td>\n",
       "      <td>PRIVATE RESIDENCE</td>\n",
       "      <td>COHABITATES WITH OTHERS</td>\n",
       "      <td>ENGLISH</td>\n",
       "      <td>...</td>\n",
       "      <td>NO</td>\n",
       "      <td>NO</td>\n",
       "      <td>YES</td>\n",
       "      <td>NO</td>\n",
       "      <td>NO</td>\n",
       "      <td>NO</td>\n",
       "      <td>NO</td>\n",
       "      <td>NO</td>\n",
       "      <td>YES</td>\n",
       "      <td>107</td>\n",
       "    </tr>\n",
       "    <tr>\n",
       "      <th>3</th>\n",
       "      <td>NEW YORK CITY REGION</td>\n",
       "      <td>ADULT</td>\n",
       "      <td>FEMALE</td>\n",
       "      <td>NO, NOT TRANSGENDER</td>\n",
       "      <td>STRAIGHT OR HETEROSEXUAL</td>\n",
       "      <td>NO, NOT HISPANIC/LATINO</td>\n",
       "      <td>OTHER</td>\n",
       "      <td>OTHER LIVING SITUATION</td>\n",
       "      <td>NOT APPLICABLE</td>\n",
       "      <td>ASIAN AND PACIFIC ISLAND</td>\n",
       "      <td>...</td>\n",
       "      <td>YES</td>\n",
       "      <td>NO</td>\n",
       "      <td>NO</td>\n",
       "      <td>NOT APPLICABLE</td>\n",
       "      <td>NO</td>\n",
       "      <td>NO</td>\n",
       "      <td>NO</td>\n",
       "      <td>NO</td>\n",
       "      <td>YES</td>\n",
       "      <td>888</td>\n",
       "    </tr>\n",
       "    <tr>\n",
       "      <th>4</th>\n",
       "      <td>LONG ISLAND REGION</td>\n",
       "      <td>ADULT</td>\n",
       "      <td>MALE</td>\n",
       "      <td>NO, NOT TRANSGENDER</td>\n",
       "      <td>STRAIGHT OR HETEROSEXUAL</td>\n",
       "      <td>NO, NOT HISPANIC/LATINO</td>\n",
       "      <td>BLACK ONLY</td>\n",
       "      <td>OTHER LIVING SITUATION</td>\n",
       "      <td>NOT APPLICABLE</td>\n",
       "      <td>ENGLISH</td>\n",
       "      <td>...</td>\n",
       "      <td>NO</td>\n",
       "      <td>NO</td>\n",
       "      <td>YES</td>\n",
       "      <td>UNKNOWN</td>\n",
       "      <td>YES</td>\n",
       "      <td>NO</td>\n",
       "      <td>NO</td>\n",
       "      <td>NO</td>\n",
       "      <td>NO</td>\n",
       "      <td>117</td>\n",
       "    </tr>\n",
       "  </tbody>\n",
       "</table>\n",
       "<p>5 rows × 65 columns</p>\n",
       "</div>"
      ],
      "text/plain": [
       "          Region Served Age Group     Sex          Transgender  \\\n",
       "0   HUDSON RIVER REGION     ADULT    MALE  NO, NOT TRANSGENDER   \n",
       "1  NEW YORK CITY REGION     ADULT    MALE  NO, NOT TRANSGENDER   \n",
       "2   HUDSON RIVER REGION     ADULT    MALE  NO, NOT TRANSGENDER   \n",
       "3  NEW YORK CITY REGION     ADULT  FEMALE  NO, NOT TRANSGENDER   \n",
       "4    LONG ISLAND REGION     ADULT    MALE  NO, NOT TRANSGENDER   \n",
       "\n",
       "         Sexual Orientation       Hispanic Ethnicity        Race  \\\n",
       "0  STRAIGHT OR HETEROSEXUAL                      YES       OTHER   \n",
       "1  STRAIGHT OR HETEROSEXUAL  NO, NOT HISPANIC/LATINO  WHITE ONLY   \n",
       "2  STRAIGHT OR HETEROSEXUAL  NO, NOT HISPANIC/LATINO  WHITE ONLY   \n",
       "3  STRAIGHT OR HETEROSEXUAL  NO, NOT HISPANIC/LATINO       OTHER   \n",
       "4  STRAIGHT OR HETEROSEXUAL  NO, NOT HISPANIC/LATINO  BLACK ONLY   \n",
       "\n",
       "         Living Situation    Household Composition        Preferred Language  \\\n",
       "0  OTHER LIVING SITUATION           NOT APPLICABLE                   ENGLISH   \n",
       "1   INSTITUTIONAL SETTING           NOT APPLICABLE                   ENGLISH   \n",
       "2       PRIVATE RESIDENCE  COHABITATES WITH OTHERS                   ENGLISH   \n",
       "3  OTHER LIVING SITUATION           NOT APPLICABLE  ASIAN AND PACIFIC ISLAND   \n",
       "4  OTHER LIVING SITUATION           NOT APPLICABLE                   ENGLISH   \n",
       "\n",
       "               ...               No Insurance Unknown Insurance Coverage  \\\n",
       "0              ...                         NO                         NO   \n",
       "1              ...                         NO                         NO   \n",
       "2              ...                         NO                         NO   \n",
       "3              ...                        YES                         NO   \n",
       "4              ...                         NO                         NO   \n",
       "\n",
       "  Medicaid Insurance Medicaid Managed Insurance Medicare Insurance  \\\n",
       "0                YES                         NO                 NO   \n",
       "1                YES                         NO            UNKNOWN   \n",
       "2                YES                         NO                 NO   \n",
       "3                 NO             NOT APPLICABLE                 NO   \n",
       "4                YES                    UNKNOWN                YES   \n",
       "\n",
       "  Private Insurance Child Health Plus Insurance Other Insurance  \\\n",
       "0                NO                          NO              NO   \n",
       "1                NO                          NO         UNKNOWN   \n",
       "2                NO                          NO              NO   \n",
       "3                NO                          NO              NO   \n",
       "4                NO                          NO              NO   \n",
       "\n",
       "  Criminal Justice Status Three Digit Residence Zip Code  \n",
       "0                     YES                            113  \n",
       "1                     YES                            113  \n",
       "2                     YES                            107  \n",
       "3                     YES                            888  \n",
       "4                      NO                            117  \n",
       "\n",
       "[5 rows x 65 columns]"
      ]
     },
     "execution_count": 6,
     "metadata": {},
     "output_type": "execute_result"
    }
   ],
   "source": [
    "df.head()"
   ]
  },
  {
   "cell_type": "markdown",
   "metadata": {},
   "source": [
    "## 1. Create label/outcome\n",
    "One thing we can do with this dataset is to try to use the various feature columns to classify whether a person has High Blood Pressure. Let's create a column that is 1 if a person has High Blood Pressure and 0 otherwise"
   ]
  },
  {
   "cell_type": "code",
   "execution_count": 7,
   "metadata": {
    "collapsed": true
   },
   "outputs": [],
   "source": [
    "# code\n",
    "df['HBP'] = np.where(df['High Blood Pressure']==\"YES\", 1, 0)"
   ]
  },
  {
   "cell_type": "markdown",
   "metadata": {},
   "source": [
    "### Question: what percentage of people have High Blood Pressure?"
   ]
  },
  {
   "cell_type": "code",
   "execution_count": 8,
   "metadata": {},
   "outputs": [
    {
     "data": {
      "text/plain": [
       "0.21600738092492217"
      ]
     },
     "execution_count": 8,
     "metadata": {},
     "output_type": "execute_result"
    }
   ],
   "source": [
    "# code\n",
    "df['HBP'].mean()"
   ]
  },
  {
   "cell_type": "markdown",
   "metadata": {},
   "source": [
    "## 2. create or select existing predictors/features\n",
    "\n",
    "For now, let's take a handful of existing columns to use.\n",
    "\n",
    "sklearn needs features to be numeric and not categorical so we'll have to turn our selected features to be binary (also known as dummy variables)"
   ]
  },
  {
   "cell_type": "code",
   "execution_count": 9,
   "metadata": {},
   "outputs": [
    {
     "data": {
      "text/html": [
       "<div>\n",
       "<style>\n",
       "    .dataframe thead tr:only-child th {\n",
       "        text-align: right;\n",
       "    }\n",
       "\n",
       "    .dataframe thead th {\n",
       "        text-align: left;\n",
       "    }\n",
       "\n",
       "    .dataframe tbody tr th {\n",
       "        vertical-align: top;\n",
       "    }\n",
       "</style>\n",
       "<table border=\"1\" class=\"dataframe\">\n",
       "  <thead>\n",
       "    <tr style=\"text-align: right;\">\n",
       "      <th></th>\n",
       "      <th>Region Served</th>\n",
       "      <th>Age Group</th>\n",
       "      <th>Transgender</th>\n",
       "      <th>Sexual Orientation</th>\n",
       "      <th>Hispanic Ethnicity</th>\n",
       "      <th>Living Situation</th>\n",
       "      <th>Household Composition</th>\n",
       "      <th>Preferred Language</th>\n",
       "      <th>Veteran Status</th>\n",
       "      <th>Employment Status</th>\n",
       "      <th>...</th>\n",
       "      <th>Drug Substance Disorder_YES</th>\n",
       "      <th>Drug Substance Disorder_nan</th>\n",
       "      <th>Criminal Justice Status_NO</th>\n",
       "      <th>Criminal Justice Status_UNKNOWN</th>\n",
       "      <th>Criminal Justice Status_YES</th>\n",
       "      <th>Criminal Justice Status_nan</th>\n",
       "      <th>Private Insurance_NO</th>\n",
       "      <th>Private Insurance_UNKNOWN</th>\n",
       "      <th>Private Insurance_YES</th>\n",
       "      <th>Private Insurance_nan</th>\n",
       "    </tr>\n",
       "  </thead>\n",
       "  <tbody>\n",
       "    <tr>\n",
       "      <th>0</th>\n",
       "      <td>HUDSON RIVER REGION</td>\n",
       "      <td>ADULT</td>\n",
       "      <td>NO, NOT TRANSGENDER</td>\n",
       "      <td>STRAIGHT OR HETEROSEXUAL</td>\n",
       "      <td>YES</td>\n",
       "      <td>OTHER LIVING SITUATION</td>\n",
       "      <td>NOT APPLICABLE</td>\n",
       "      <td>ENGLISH</td>\n",
       "      <td>NO</td>\n",
       "      <td>NOT IN LABOR FORCE:UNEMPLOYED AND NOT LOOKING ...</td>\n",
       "      <td>...</td>\n",
       "      <td>1</td>\n",
       "      <td>0</td>\n",
       "      <td>0</td>\n",
       "      <td>0</td>\n",
       "      <td>1</td>\n",
       "      <td>0</td>\n",
       "      <td>1</td>\n",
       "      <td>0</td>\n",
       "      <td>0</td>\n",
       "      <td>0</td>\n",
       "    </tr>\n",
       "    <tr>\n",
       "      <th>1</th>\n",
       "      <td>NEW YORK CITY REGION</td>\n",
       "      <td>ADULT</td>\n",
       "      <td>NO, NOT TRANSGENDER</td>\n",
       "      <td>STRAIGHT OR HETEROSEXUAL</td>\n",
       "      <td>NO, NOT HISPANIC/LATINO</td>\n",
       "      <td>INSTITUTIONAL SETTING</td>\n",
       "      <td>NOT APPLICABLE</td>\n",
       "      <td>ENGLISH</td>\n",
       "      <td>NO</td>\n",
       "      <td>NOT IN LABOR FORCE:UNEMPLOYED AND NOT LOOKING ...</td>\n",
       "      <td>...</td>\n",
       "      <td>1</td>\n",
       "      <td>0</td>\n",
       "      <td>0</td>\n",
       "      <td>0</td>\n",
       "      <td>1</td>\n",
       "      <td>0</td>\n",
       "      <td>1</td>\n",
       "      <td>0</td>\n",
       "      <td>0</td>\n",
       "      <td>0</td>\n",
       "    </tr>\n",
       "    <tr>\n",
       "      <th>2</th>\n",
       "      <td>HUDSON RIVER REGION</td>\n",
       "      <td>ADULT</td>\n",
       "      <td>NO, NOT TRANSGENDER</td>\n",
       "      <td>STRAIGHT OR HETEROSEXUAL</td>\n",
       "      <td>NO, NOT HISPANIC/LATINO</td>\n",
       "      <td>PRIVATE RESIDENCE</td>\n",
       "      <td>COHABITATES WITH OTHERS</td>\n",
       "      <td>ENGLISH</td>\n",
       "      <td>NO</td>\n",
       "      <td>NOT IN LABOR FORCE:UNEMPLOYED AND NOT LOOKING ...</td>\n",
       "      <td>...</td>\n",
       "      <td>0</td>\n",
       "      <td>0</td>\n",
       "      <td>0</td>\n",
       "      <td>0</td>\n",
       "      <td>1</td>\n",
       "      <td>0</td>\n",
       "      <td>1</td>\n",
       "      <td>0</td>\n",
       "      <td>0</td>\n",
       "      <td>0</td>\n",
       "    </tr>\n",
       "    <tr>\n",
       "      <th>3</th>\n",
       "      <td>NEW YORK CITY REGION</td>\n",
       "      <td>ADULT</td>\n",
       "      <td>NO, NOT TRANSGENDER</td>\n",
       "      <td>STRAIGHT OR HETEROSEXUAL</td>\n",
       "      <td>NO, NOT HISPANIC/LATINO</td>\n",
       "      <td>OTHER LIVING SITUATION</td>\n",
       "      <td>NOT APPLICABLE</td>\n",
       "      <td>ASIAN AND PACIFIC ISLAND</td>\n",
       "      <td>NO</td>\n",
       "      <td>NOT IN LABOR FORCE:UNEMPLOYED AND NOT LOOKING ...</td>\n",
       "      <td>...</td>\n",
       "      <td>0</td>\n",
       "      <td>0</td>\n",
       "      <td>0</td>\n",
       "      <td>0</td>\n",
       "      <td>1</td>\n",
       "      <td>0</td>\n",
       "      <td>1</td>\n",
       "      <td>0</td>\n",
       "      <td>0</td>\n",
       "      <td>0</td>\n",
       "    </tr>\n",
       "    <tr>\n",
       "      <th>4</th>\n",
       "      <td>LONG ISLAND REGION</td>\n",
       "      <td>ADULT</td>\n",
       "      <td>NO, NOT TRANSGENDER</td>\n",
       "      <td>STRAIGHT OR HETEROSEXUAL</td>\n",
       "      <td>NO, NOT HISPANIC/LATINO</td>\n",
       "      <td>OTHER LIVING SITUATION</td>\n",
       "      <td>NOT APPLICABLE</td>\n",
       "      <td>ENGLISH</td>\n",
       "      <td>NO</td>\n",
       "      <td>NOT IN LABOR FORCE:UNEMPLOYED AND NOT LOOKING ...</td>\n",
       "      <td>...</td>\n",
       "      <td>0</td>\n",
       "      <td>0</td>\n",
       "      <td>1</td>\n",
       "      <td>0</td>\n",
       "      <td>0</td>\n",
       "      <td>0</td>\n",
       "      <td>1</td>\n",
       "      <td>0</td>\n",
       "      <td>0</td>\n",
       "      <td>0</td>\n",
       "    </tr>\n",
       "  </tbody>\n",
       "</table>\n",
       "<p>5 rows × 91 columns</p>\n",
       "</div>"
      ],
      "text/plain": [
       "          Region Served Age Group          Transgender  \\\n",
       "0   HUDSON RIVER REGION     ADULT  NO, NOT TRANSGENDER   \n",
       "1  NEW YORK CITY REGION     ADULT  NO, NOT TRANSGENDER   \n",
       "2   HUDSON RIVER REGION     ADULT  NO, NOT TRANSGENDER   \n",
       "3  NEW YORK CITY REGION     ADULT  NO, NOT TRANSGENDER   \n",
       "4    LONG ISLAND REGION     ADULT  NO, NOT TRANSGENDER   \n",
       "\n",
       "         Sexual Orientation       Hispanic Ethnicity        Living Situation  \\\n",
       "0  STRAIGHT OR HETEROSEXUAL                      YES  OTHER LIVING SITUATION   \n",
       "1  STRAIGHT OR HETEROSEXUAL  NO, NOT HISPANIC/LATINO   INSTITUTIONAL SETTING   \n",
       "2  STRAIGHT OR HETEROSEXUAL  NO, NOT HISPANIC/LATINO       PRIVATE RESIDENCE   \n",
       "3  STRAIGHT OR HETEROSEXUAL  NO, NOT HISPANIC/LATINO  OTHER LIVING SITUATION   \n",
       "4  STRAIGHT OR HETEROSEXUAL  NO, NOT HISPANIC/LATINO  OTHER LIVING SITUATION   \n",
       "\n",
       "     Household Composition        Preferred Language Veteran Status  \\\n",
       "0           NOT APPLICABLE                   ENGLISH             NO   \n",
       "1           NOT APPLICABLE                   ENGLISH             NO   \n",
       "2  COHABITATES WITH OTHERS                   ENGLISH             NO   \n",
       "3           NOT APPLICABLE  ASIAN AND PACIFIC ISLAND             NO   \n",
       "4           NOT APPLICABLE                   ENGLISH             NO   \n",
       "\n",
       "                                   Employment Status          ...           \\\n",
       "0  NOT IN LABOR FORCE:UNEMPLOYED AND NOT LOOKING ...          ...            \n",
       "1  NOT IN LABOR FORCE:UNEMPLOYED AND NOT LOOKING ...          ...            \n",
       "2  NOT IN LABOR FORCE:UNEMPLOYED AND NOT LOOKING ...          ...            \n",
       "3  NOT IN LABOR FORCE:UNEMPLOYED AND NOT LOOKING ...          ...            \n",
       "4  NOT IN LABOR FORCE:UNEMPLOYED AND NOT LOOKING ...          ...            \n",
       "\n",
       "  Drug Substance Disorder_YES Drug Substance Disorder_nan  \\\n",
       "0                           1                           0   \n",
       "1                           1                           0   \n",
       "2                           0                           0   \n",
       "3                           0                           0   \n",
       "4                           0                           0   \n",
       "\n",
       "  Criminal Justice Status_NO Criminal Justice Status_UNKNOWN  \\\n",
       "0                          0                               0   \n",
       "1                          0                               0   \n",
       "2                          0                               0   \n",
       "3                          0                               0   \n",
       "4                          1                               0   \n",
       "\n",
       "  Criminal Justice Status_YES Criminal Justice Status_nan  \\\n",
       "0                           1                           0   \n",
       "1                           1                           0   \n",
       "2                           1                           0   \n",
       "3                           1                           0   \n",
       "4                           0                           0   \n",
       "\n",
       "  Private Insurance_NO Private Insurance_UNKNOWN Private Insurance_YES  \\\n",
       "0                    1                         0                     0   \n",
       "1                    1                         0                     0   \n",
       "2                    1                         0                     0   \n",
       "3                    1                         0                     0   \n",
       "4                    1                         0                     0   \n",
       "\n",
       "  Private Insurance_nan  \n",
       "0                     0  \n",
       "1                     0  \n",
       "2                     0  \n",
       "3                     0  \n",
       "4                     0  \n",
       "\n",
       "[5 rows x 91 columns]"
      ]
     },
     "execution_count": 9,
     "metadata": {},
     "output_type": "execute_result"
    }
   ],
   "source": [
    "# code\n",
    "cols_to_transform = [ 'Sex', 'Race', 'Obesity', 'Smokes', 'Alcohol Related Disorder','Drug Substance Disorder',\n",
    "                    'Criminal Justice Status','Private Insurance']\n",
    "df = pd.get_dummies( df, dummy_na=True, columns = cols_to_transform )\n",
    "df.head()"
   ]
  },
  {
   "cell_type": "code",
   "execution_count": 10,
   "metadata": {
    "collapsed": true
   },
   "outputs": [],
   "source": [
    "# code\n",
    "selected_features = ['Sex_FEMALE','Sex_MALE','Sex_UNKNOWN','Race_BLACK ONLY','Race_MULTI-RACIAL','Race_OTHER',\n",
    "                     'Race_UNKNOWN RACE','Race_WHITE ONLY', 'Obesity_YES', 'Obesity_NO', 'Obesity_nan', \n",
    "                     'Smokes_YES', 'Smokes_NO','Alcohol Related Disorder_NO','Alcohol Related Disorder_YES',\n",
    "                    'Alcohol Related Disorder_UNKNOWN','Criminal Justice Status_YES','Criminal Justice Status_NO',\n",
    "                    'Criminal Justice Status_UNKNOWN','Private Insurance_NO','Private Insurance_YES','Private Insurance_UNKNOWN']"
   ]
  },
  {
   "cell_type": "markdown",
   "metadata": {},
   "source": [
    "# Train/Test Splits\n",
    "\n",
    "Create a train/test set split using sklearn's [train_test_split](http://scikit-learn.org/stable/modules/generated/sklearn.model_selection.train_test_split.html) function. We'll use these train/test splits for evaluating all our classification models."
   ]
  },
  {
   "cell_type": "code",
   "execution_count": 11,
   "metadata": {
    "collapsed": true
   },
   "outputs": [],
   "source": [
    "# code\n",
    "x = df[selected_features]\n",
    "y = df['HBP']\n",
    "test_size = 0.3 # you can adjust this\n",
    "x_train, x_test, y_train, y_test = train_test_split(x, y, test_size=test_size)"
   ]
  },
  {
   "cell_type": "markdown",
   "metadata": {
    "collapsed": true
   },
   "source": [
    "# Bagging\n",
    "See the sklearn documentation on sklearn.ensemble.BaggingClassifier to see its parameters. We'll mostly be interested in:\n",
    "- n_estimators\n",
    "You can explore 2 more:\n",
    "- base_estimator\n",
    "- n_jobs"
   ]
  },
  {
   "cell_type": "markdown",
   "metadata": {},
   "source": [
    "Remember that when training a model, **you should only use the training data!** The test set is reserved exclusively for evaluating your model. Now let's use the classifier:"
   ]
  },
  {
   "cell_type": "code",
   "execution_count": 75,
   "metadata": {
    "collapsed": true
   },
   "outputs": [],
   "source": [
    "# code\n",
    "bagging = BaggingClassifier() # use the default parameters: base_estimator is a decision tree, n_estimators=10\n",
    "bagging.fit(x_train, y_train)\n",
    "pred_scores = bagging.predict_proba(x_test)"
   ]
  },
  {
   "cell_type": "markdown",
   "metadata": {},
   "source": [
    "## Bagging Tasks:\n",
    "\n",
    "The goal here is to explore different parameters to see their impact. How does each performance metric change, using different thresholds, as you vary the parameters?  You can write a nested for loop that loops over all the parameters and values."
   ]
  },
  {
   "cell_type": "code",
   "execution_count": 76,
   "metadata": {},
   "outputs": [
    {
     "name": "stdout",
     "output_type": "stream",
     "text": [
      "The true number of HBP is 553/2602 from the testing data, with percentage 21.25%\n",
      "\n",
      "(Threshold: 0.1), the total number of predicted HBP is 2336, the accuracy is 0.28, the f1_score is 0.36\n",
      "\n",
      "(Threshold: 0.2), the total number of predicted HBP is 1413, the accuracy is 0.50, the f1_score is 0.34\n",
      "\n",
      "(Threshold: 0.3), the total number of predicted HBP is 449, the accuracy is 0.72, the f1_score is 0.27\n",
      "\n",
      "(Threshold: 0.4), the total number of predicted HBP is 211, the accuracy is 0.76, the f1_score is 0.18\n",
      "\n",
      "(Threshold: 0.5), the total number of predicted HBP is 40, the accuracy is 0.78, the f1_score is 0.03\n",
      "\n",
      "(Threshold: 0.6), the total number of predicted HBP is 26, the accuracy is 0.78, the f1_score is 0.02\n",
      "\n",
      "(Threshold: 0.7), the total number of predicted HBP is 1, the accuracy is 0.79, the f1_score is 0.00\n",
      "\n"
     ]
    }
   ],
   "source": [
    "# CODE\n",
    "print(\"The true number of HBP is {}/{} from the testing data, with percentage {:.2f}%\\n\".format(\n",
    "    sum(y_test), len(y_test), 100.*sum(y_test)/len(y_test)))\n",
    "for threshold in np.linspace(0.1,0.7,7):\n",
    "    pred_label = [1 if x[1]>threshold else 0 for x in pred_scores]\n",
    "    print(\"(Threshold: {}), the total number of predicted HBP is {}, the accuracy is {:.2f}, the f1_score is {:.2f}\".format(\n",
    "        threshold, sum(pred_label), accuracy(pred_label,y_test), f1_score(y_test, pred_label)))\n",
    "    print"
   ]
  },
  {
   "cell_type": "markdown",
   "metadata": {},
   "source": [
    "If we take both Accuracy and F1 score into consideration, threshold=0.3 is a good choice."
   ]
  },
  {
   "cell_type": "markdown",
   "metadata": {},
   "source": [
    "## What is the effect of changing the base_estimator?"
   ]
  },
  {
   "cell_type": "markdown",
   "metadata": {},
   "source": [
    "What happens when you use different models inside bagging? What if you use logistic regresssion? Does the performance of LR by itself better or worse than if you use it with bagging? How does it change if you increase the number of estimators (bags)? \n",
    "\n",
    "You can try it with a simple metric at first, let's say AUC."
   ]
  },
  {
   "cell_type": "code",
   "execution_count": 1,
   "metadata": {},
   "outputs": [
    {
     "ename": "NameError",
     "evalue": "name 'roc_curve' is not defined",
     "output_type": "error",
     "traceback": [
      "\u001b[0;31m---------------------------------------------------------------------------\u001b[0m",
      "\u001b[0;31mNameError\u001b[0m                                 Traceback (most recent call last)",
      "\u001b[0;32m<ipython-input-1-0542b32f0f19>\u001b[0m in \u001b[0;36m<module>\u001b[0;34m()\u001b[0m\n\u001b[1;32m      1\u001b[0m \u001b[0;31m# code\u001b[0m\u001b[0;34m\u001b[0m\u001b[0;34m\u001b[0m\u001b[0m\n\u001b[0;32m----> 2\u001b[0;31m \u001b[0mfpr\u001b[0m\u001b[0;34m,\u001b[0m \u001b[0mtpr\u001b[0m\u001b[0;34m,\u001b[0m \u001b[0mthresholds\u001b[0m \u001b[0;34m=\u001b[0m \u001b[0mroc_curve\u001b[0m\u001b[0;34m(\u001b[0m\u001b[0my_test\u001b[0m\u001b[0;34m,\u001b[0m \u001b[0mpred_scores\u001b[0m\u001b[0;34m[\u001b[0m\u001b[0;34m:\u001b[0m\u001b[0;34m,\u001b[0m\u001b[0;36m1\u001b[0m\u001b[0;34m]\u001b[0m\u001b[0;34m,\u001b[0m \u001b[0mpos_label\u001b[0m\u001b[0;34m=\u001b[0m\u001b[0;36m1\u001b[0m\u001b[0;34m)\u001b[0m\u001b[0;34m\u001b[0m\u001b[0m\n\u001b[0m\u001b[1;32m      3\u001b[0m \u001b[0;32mprint\u001b[0m\u001b[0;34m(\u001b[0m\u001b[0;34m\"The AUC under the original default setting of bagging is {:.3f}\"\u001b[0m\u001b[0;34m.\u001b[0m\u001b[0mformat\u001b[0m\u001b[0;34m(\u001b[0m\u001b[0mauc\u001b[0m\u001b[0;34m(\u001b[0m\u001b[0mfpr\u001b[0m\u001b[0;34m,\u001b[0m \u001b[0mtpr\u001b[0m\u001b[0;34m)\u001b[0m\u001b[0;34m)\u001b[0m\u001b[0;34m)\u001b[0m\u001b[0;34m\u001b[0m\u001b[0m\n",
      "\u001b[0;31mNameError\u001b[0m: name 'roc_curve' is not defined"
     ]
    }
   ],
   "source": [
    "# code\n",
    "fpr, tpr, thresholds = roc_curve(y_test, pred_scores[:,1], pos_label=1)\n",
    "print(\"The AUC under the original default setting of bagging is {:.3f}\".format(auc(fpr, tpr)))"
   ]
  },
  {
   "cell_type": "markdown",
   "metadata": {},
   "source": [
    "Now let's use logistic regression as base estimator."
   ]
  },
  {
   "cell_type": "code",
   "execution_count": 48,
   "metadata": {},
   "outputs": [
    {
     "name": "stdout",
     "output_type": "stream",
     "text": [
      "The AUC of bagging with Logistic Regression as base_estimator is 0.606\n"
     ]
    }
   ],
   "source": [
    "bagging = BaggingClassifier(base_estimator=LogisticRegression()) # use the default parameters: base_estimator is a decision tree, n_estimators=10\n",
    "bagging.fit(x_train, y_train)\n",
    "pred_scores = bagging.predict_proba(x_test)\n",
    "fpr, tpr, thresholds = roc_curve(y_test, pred_scores[:,1], pos_label=1)\n",
    "print(\"The AUC of bagging with Logistic Regression as base_estimator is {:.3f}\".format(auc(fpr, tpr)))"
   ]
  },
  {
   "cell_type": "markdown",
   "metadata": {},
   "source": [
    "It seems that Logistic Regression is a better candidate than decision tree as base_estimator. Let's see how does LR itself perform without bagging."
   ]
  },
  {
   "cell_type": "code",
   "execution_count": 71,
   "metadata": {},
   "outputs": [
    {
     "name": "stdout",
     "output_type": "stream",
     "text": [
      "The AUC of logistic regression itself is 0.613\n"
     ]
    }
   ],
   "source": [
    "classifier = LogisticRegression()\n",
    "classifier.fit(x_train, y_train)\n",
    "pred_scores = classifier.predict_proba(x_test)\n",
    "fpr, tpr, thresholds = roc_curve(y_test, pred_scores[:,1], pos_label=1)\n",
    "print(\"The AUC of logistic regression itself is {:.3f}\".format(auc(fpr, tpr)))"
   ]
  },
  {
   "cell_type": "markdown",
   "metadata": {},
   "source": [
    "Seems logistic regression without bagging is performing good. Can bagging outperform it with increasing number of bags?"
   ]
  },
  {
   "cell_type": "code",
   "execution_count": 53,
   "metadata": {},
   "outputs": [
    {
     "name": "stdout",
     "output_type": "stream",
     "text": [
      "The AUC of bagging with Logistic Regression as base_estimator is 0.611\n"
     ]
    }
   ],
   "source": [
    "bagging = BaggingClassifier(base_estimator=LogisticRegression(), n_estimators=100)\n",
    "bagging.fit(x_train, y_train)\n",
    "pred_scores = bagging.predict_proba(x_test)\n",
    "fpr, tpr, thresholds = roc_curve(y_test, pred_scores[:,1], pos_label=1)\n",
    "print(\"The AUC of bagging with Logistic Regression as base_estimator is {:.3f}\".format(auc(fpr, tpr)))"
   ]
  },
  {
   "cell_type": "markdown",
   "metadata": {},
   "source": [
    "# Boosting\n",
    "We'll start by using adaboost, that is one of the boosting classifiers implemented in sklearn.\n",
    "https://scikit-learn.org/stable/modules/generated/sklearn.ensemble.AdaBoostClassifier.html\n",
    "\n",
    "Similar to bagging, there are two parameters to explore:\n",
    "- n_estimators (number of rounds of boosting)\n",
    "- base_estimator\n",
    "\n",
    "Why is there no n_jobs parameter here?\n",
    "\n",
    "\n",
    "\n",
    "We can explore other boosting methods later such as gradient boosting\n",
    "https://scikit-learn.org/stable/modules/generated/sklearn.ensemble.GradientBoostingClassifier.html"
   ]
  },
  {
   "cell_type": "raw",
   "metadata": {},
   "source": [
    "### Let's fit an adaboost model "
   ]
  },
  {
   "cell_type": "code",
   "execution_count": 19,
   "metadata": {},
   "outputs": [
    {
     "data": {
      "text/plain": [
       "AdaBoostClassifier(algorithm='SAMME.R', base_estimator=None,\n",
       "          learning_rate=1.0, n_estimators=50, random_state=None)"
      ]
     },
     "execution_count": 19,
     "metadata": {},
     "output_type": "execute_result"
    }
   ],
   "source": [
    "boost = AdaBoostClassifier() # use the default parameters: base_estimator is a decision tree, n_estimators=50\n",
    "boost.fit(x_train, y_train)"
   ]
  },
  {
   "cell_type": "markdown",
   "metadata": {},
   "source": [
    "### Now predict scores on the test set and plot the distribution of scores"
   ]
  },
  {
   "cell_type": "code",
   "execution_count": 20,
   "metadata": {},
   "outputs": [
    {
     "data": {
      "text/plain": [
       "(array([   5.,   70.,   92.,  410.,  401.,  691.,  611.,   88.,  201.,   33.]),\n",
       " array([ 0.4864226 ,  0.48774454,  0.48906648,  0.49038842,  0.49171037,\n",
       "         0.49303231,  0.49435425,  0.49567619,  0.49699814,  0.49832008,\n",
       "         0.49964202]),\n",
       " <a list of 10 Patch objects>)"
      ]
     },
     "execution_count": 20,
     "metadata": {},
     "output_type": "execute_result"
    },
    {
     "data": {
      "image/png": "[encoded data removed]",
      "text/plain": [
       "<matplotlib.figure.Figure at 0x7fa3bdc80790>"
      ]
     },
     "metadata": {},
     "output_type": "display_data"
    }
   ],
   "source": [
    "pred_scores = boost.predict_proba(x_test)\n",
    "plt.hist(pred_scores[:,1])"
   ]
  },
  {
   "cell_type": "markdown",
   "metadata": {},
   "source": [
    "### now we can select a threshold and calculate accuracy"
   ]
  },
  {
   "cell_type": "code",
   "execution_count": 23,
   "metadata": {},
   "outputs": [
    {
     "name": "stdout",
     "output_type": "stream",
     "text": [
      "The true number of HBP is 542/2602 from the testing data, with percentage 20.83%\n",
      "\n",
      "(Threshold: 0.488), the total number of predicted HBP is 2585, the accuracy is 0.21, the f1_score is 0.35\n",
      "\n",
      "(Threshold: 0.489), the total number of predicted HBP is 2526, the accuracy is 0.23, the f1_score is 0.34\n",
      "\n",
      "(Threshold: 0.490), the total number of predicted HBP is 2439, the accuracy is 0.25, the f1_score is 0.34\n",
      "\n",
      "(Threshold: 0.491), the total number of predicted HBP is 2133, the accuracy is 0.34, the f1_score is 0.35\n",
      "\n",
      "(Threshold: 0.492), the total number of predicted HBP is 1692, the accuracy is 0.46, the f1_score is 0.37\n",
      "\n",
      "(Threshold: 0.494), the total number of predicted HBP is 1124, the accuracy is 0.58, the f1_score is 0.35\n",
      "\n",
      "(Threshold: 0.495), the total number of predicted HBP is 501, the accuracy is 0.72, the f1_score is 0.30\n",
      "\n",
      "(Threshold: 0.496), the total number of predicted HBP is 320, the accuracy is 0.76, the f1_score is 0.26\n",
      "\n",
      "(Threshold: 0.497), the total number of predicted HBP is 242, the accuracy is 0.77, the f1_score is 0.23\n",
      "\n",
      "(Threshold: 0.498), the total number of predicted HBP is 87, the accuracy is 0.78, the f1_score is 0.11\n",
      "\n"
     ]
    }
   ],
   "source": [
    "# CODE\n",
    "print(\"The true number of HBP is {}/{} from the testing data, with percentage {:.2f}%\\n\".format(\n",
    "    sum(y_test), len(y_test), 100.*sum(y_test)/len(y_test)))\n",
    "for threshold in np.linspace(0.488,0.498,10):\n",
    "    pred_label = [1 if x[1]>threshold else 0 for x in pred_scores]\n",
    "    print(\"(Threshold: {:.3f}), the total number of predicted HBP is {}, the accuracy is {:.2f}, the f1_score is {:.2f}\".format(\n",
    "        threshold, sum(pred_label), accuracy(pred_label,y_test), f1_score(y_test, pred_label)))\n",
    "    print"
   ]
  },
  {
   "cell_type": "markdown",
   "metadata": {},
   "source": [
    "Seems 0.495 is a good choice for the threshold."
   ]
  },
  {
   "cell_type": "markdown",
   "metadata": {},
   "source": [
    "### Let's now vary values of n_estimators and see the results."
   ]
  },
  {
   "cell_type": "code",
   "execution_count": 24,
   "metadata": {},
   "outputs": [
    {
     "name": "stdout",
     "output_type": "stream",
     "text": [
      "(n_estimators: 1), the AUC of logistic regression it self is 0.56003\n",
      "(n_estimators: 5), the AUC of logistic regression it self is 0.59369\n",
      "(n_estimators: 10), the AUC of logistic regression it self is 0.59605\n",
      "(n_estimators: 50), the AUC of logistic regression it self is 0.59708\n",
      "(n_estimators: 100), the AUC of logistic regression it self is 0.59723\n",
      "(n_estimators: 200), the AUC of logistic regression it self is 0.59716\n",
      "(n_estimators: 500), the AUC of logistic regression it self is 0.59715\n",
      "(n_estimators: 1000), the AUC of logistic regression it self is 0.59716\n"
     ]
    }
   ],
   "source": [
    "for n_estimators in [1,5,10,50, 100, 200, 500, 1000]:\n",
    "    boost = AdaBoostClassifier(n_estimators=n_estimators) # use the default parameters: base_estimator is a decision tree, n_estimators=50\n",
    "    boost.fit(x_train, y_train)\n",
    "    pred_scores = boost.predict_proba(x_test)\n",
    "    fpr, tpr, thresholds = roc_curve(y_test, pred_scores[:,1], pos_label=1)\n",
    "    print(\"(n_estimators: {}), the AUC of logistic regression it self is {:.5f}\".format(n_estimators, auc(fpr, tpr)))"
   ]
  },
  {
   "cell_type": "markdown",
   "metadata": {},
   "source": [
    "### what happens if we use a different base_estimator?"
   ]
  },
  {
   "cell_type": "code",
   "execution_count": 26,
   "metadata": {},
   "outputs": [
    {
     "name": "stdout",
     "output_type": "stream",
     "text": [
      "The AUC of logistic regression it self is 0.59696\n"
     ]
    }
   ],
   "source": [
    "boost = AdaBoostClassifier(base_estimator=LogisticRegression(), n_estimators=n_estimators) # use the default parameters: base_estimator is a decision tree, n_estimators=50\n",
    "boost.fit(x_train, y_train)\n",
    "pred_scores = boost.predict_proba(x_test)\n",
    "fpr, tpr, thresholds = roc_curve(y_test, pred_scores[:,1], pos_label=1)\n",
    "print(\"The AUC of logistic regression it self is {:.5f}\".format(auc(fpr, tpr)))"
   ]
  },
  {
   "cell_type": "markdown",
   "metadata": {},
   "source": [
    "Logistic regression as base_estimator slightly beats decision tree."
   ]
  },
  {
   "cell_type": "markdown",
   "metadata": {},
   "source": [
    "### Now let's build precision, recall, % of population graphs for all the models above varying the different parameters "
   ]
  },
  {
   "cell_type": "code",
   "execution_count": 12,
   "metadata": {},
   "outputs": [],
   "source": [
    "bagging = BaggingClassifier() # use the default parameters: base_estimator is a decision tree, n_estimators=10\n",
    "bagging.fit(x_train, y_train)\n",
    "pred_scores = bagging.predict_proba(x_test)\n",
    "precision, recall, thresholds = precision_recall_curve(y_test, pred_scores[:,1],pos_label=1)\n",
    "population = [1.*sum(pred_scores[:,1]>threshold)/len(pred_scores) for threshold in thresholds]"
   ]
  },
  {
   "cell_type": "code",
   "execution_count": 13,
   "metadata": {},
   "outputs": [
    {
     "data": {
      "image/png": "[encoded data removed]",
      "text/plain": [
       "<matplotlib.figure.Figure at 0x7fa3c47bf990>"
      ]
     },
     "metadata": {},
     "output_type": "display_data"
    }
   ],
   "source": [
    "p, = plt.plot(population, precision[:-1], color='b') # last element of precision is 0\n",
    "r, = plt.plot(population, recall[:-1], color='r') # last element of recall is 1\n",
    "plt.legend([p, r], ['precision', 'recall'])\n",
    "plt.show()"
   ]
  },
  {
   "cell_type": "code",
   "execution_count": 15,
   "metadata": {},
   "outputs": [],
   "source": [
    "boost = AdaBoostClassifier(base_estimator=LogisticRegression()) # use the default parameters: base_estimator is a decision tree, n_estimators=50\n",
    "boost.fit(x_train, y_train)\n",
    "pred_scores = boost.predict_proba(x_test)\n",
    "precision, recall, thresholds = precision_recall_curve(y_test, pred_scores[:,1],pos_label=1)\n",
    "population = [1.*sum(pred_scores[:,1]>threshold)/len(pred_scores) for threshold in thresholds]"
   ]
  },
  {
   "cell_type": "code",
   "execution_count": 16,
   "metadata": {},
   "outputs": [
    {
     "data": {
      "image/png": "[encoded data removed]",
      "text/plain": [
       "<matplotlib.figure.Figure at 0x7fa3c470e410>"
      ]
     },
     "metadata": {},
     "output_type": "display_data"
    }
   ],
   "source": [
    "p, = plt.plot(population, precision[:-1], color='b') # last element of precision is 1\n",
    "r, = plt.plot(population, recall[:-1], color='r') # last element of recall is 0\n",
    "plt.legend([p, r], ['precision', 'recall'])\n",
    "plt.show()"
   ]
  },
  {
   "cell_type": "code",
   "execution_count": 17,
   "metadata": {
    "collapsed": true
   },
   "outputs": [],
   "source": [
    "classifier = LogisticRegression()\n",
    "classifier.fit(x_train, y_train)\n",
    "pred_scores = classifier.predict_proba(x_test)\n",
    "precision, recall, thresholds = precision_recall_curve(y_test, pred_scores[:,1],pos_label=1)\n",
    "population = [1.*sum(pred_scores[:,1]>threshold)/len(pred_scores) for threshold in thresholds]"
   ]
  },
  {
   "cell_type": "code",
   "execution_count": 18,
   "metadata": {},
   "outputs": [
    {
     "data": {
      "image/png": "[encoded data removed]",
      "text/plain": [
       "<matplotlib.figure.Figure at 0x7fa3bdc80710>"
      ]
     },
     "metadata": {},
     "output_type": "display_data"
    }
   ],
   "source": [
    "p, = plt.plot(population, precision[:-1], color='b') # last element of precision is 1\n",
    "r, = plt.plot(population, recall[:-1], color='r') # last element of recall is 0\n",
    "plt.legend([p, r], ['precision', 'recall'])\n",
    "plt.show()"
   ]
  },
  {
   "cell_type": "markdown",
   "metadata": {},
   "source": [
    "### what can we learn about bagging and boosting from these results?"
   ]
  },
  {
   "cell_type": "code",
   "execution_count": null,
   "metadata": {
    "collapsed": true
   },
   "outputs": [],
   "source": []
  },
  {
   "cell_type": "markdown",
   "metadata": {},
   "source": [
    "### do bagging and boosting always improve over the base estimator used?"
   ]
  },
  {
   "cell_type": "code",
   "execution_count": null,
   "metadata": {
    "collapsed": true
   },
   "outputs": [],
   "source": []
  },
  {
   "cell_type": "markdown",
   "metadata": {},
   "source": [
    "# Random Forests\n",
    "If you have time, you can get started on exploring Random Forests that we'll cover in the next class.\n",
    "https://scikit-learn.org/stable/modules/generated/sklearn.ensemble.RandomForestClassifier.html\n",
    "\n"
   ]
  },
  {
   "cell_type": "code",
   "execution_count": null,
   "metadata": {
    "collapsed": true
   },
   "outputs": [],
   "source": []
  }
 ],
 "metadata": {
  "kernelspec": {
   "display_name": "Python 2",
   "language": "python",
   "name": "python2"
  },
  "language_info": {
   "codemirror_mode": {
    "name": "ipython",
    "version": 2
   },
   "file_extension": ".py",
   "mimetype": "text/x-python",
   "name": "python",
   "nbconvert_exporter": "python",
   "pygments_lexer": "ipython2",
   "version": "2.7.14"
  }
 },
 "nbformat": 4,
 "nbformat_minor": 2
}
