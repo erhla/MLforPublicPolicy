{
 "cells": [
  {
   "cell_type": "markdown",
   "metadata": {},
   "source": [
    "# Lab 3: Logistic Regression, Support Vector Machines, and Evaluation\n",
    "\n",
    "\n",
    "In this lab we'll get some hands on experience with two more classifiers we've seen in class\n",
    "- Logitic Regression\n",
    "- Support Vector Machines\n",
    "\n",
    "We will also explore evaluation metrics that we covered in class and understand how to calculate them."
   ]
  },
  {
   "cell_type": "markdown",
   "metadata": {},
   "source": [
    "## Goals for this lab\n",
    "\n",
    "- Understand the practical implications for changing the parameters used in Logistic Regression and Support Vector Machines\n",
    "  \n",
    "- Learn more about the evaluation metrics covered in class and learn how to calculate them (at different thresholds)\n",
    "  - accuracy\n",
    "  - precision\n",
    "  - recall\n",
    "  - AUC"
   ]
  },
  {
   "cell_type": "code",
   "execution_count": 166,
   "metadata": {
    "collapsed": true
   },
   "outputs": [],
   "source": [
    "### import matplotlib.pyplot as plt\n",
    "import numpy as np\n",
    "import pandas as pd\n",
    "import sklearn.tree as tree\n",
    "from sklearn.linear_model import LogisticRegression\n",
    "from sklearn.svm import LinearSVC\n",
    "from sklearn.model_selection import train_test_split\n",
    "from sklearn.metrics import accuracy_score as accuracy\n",
    "import graphviz # If you don't have this, install via pip/conda\n",
    "from sklearn.metrics import confusion_matrix\n",
    "from sklearn.metrics import precision_recall_curve\n",
    "%matplotlib inline\n",
    "\n",
    "# exercise: what additional modules should you import?"
   ]
  },
  {
   "cell_type": "markdown",
   "metadata": {},
   "source": [
    "# Data\n",
    "We'll continue to use the same data as in the previous lab.\n",
    "\n",
    "It is a subset of the data set from https://www.kaggle.com/new-york-state/nys-patient-characteristics-survey-pcs-2015\n",
    "\n",
    "The data has been downloaded, modified, and is in the github repo for the lab\n",
    "\n",
    "You should also try this with other data sets you have been provided for the homeworks."
   ]
  },
  {
   "cell_type": "code",
   "execution_count": 8,
   "metadata": {
    "collapsed": true
   },
   "outputs": [],
   "source": [
    "# Change this to wherever you're storing your data\n",
    "datafile = '../data/nysmedicaldata.csv'\n",
    "df = pd.read_csv(datafile)"
   ]
  },
  {
   "cell_type": "code",
   "execution_count": 9,
   "metadata": {},
   "outputs": [
    {
     "data": {
      "text/html": [
       "<div>\n",
       "<style scoped>\n",
       "    .dataframe tbody tr th:only-of-type {\n",
       "        vertical-align: middle;\n",
       "    }\n",
       "\n",
       "    .dataframe tbody tr th {\n",
       "        vertical-align: top;\n",
       "    }\n",
       "\n",
       "    .dataframe thead th {\n",
       "        text-align: right;\n",
       "    }\n",
       "</style>\n",
       "<table border=\"1\" class=\"dataframe\">\n",
       "  <thead>\n",
       "    <tr style=\"text-align: right;\">\n",
       "      <th></th>\n",
       "      <th>Region Served</th>\n",
       "      <th>Age Group</th>\n",
       "      <th>Sex</th>\n",
       "      <th>Transgender</th>\n",
       "      <th>Sexual Orientation</th>\n",
       "      <th>Hispanic Ethnicity</th>\n",
       "      <th>Race</th>\n",
       "      <th>Living Situation</th>\n",
       "      <th>Household Composition</th>\n",
       "      <th>Preferred Language</th>\n",
       "      <th>...</th>\n",
       "      <th>No Insurance</th>\n",
       "      <th>Unknown Insurance Coverage</th>\n",
       "      <th>Medicaid Insurance</th>\n",
       "      <th>Medicaid Managed Insurance</th>\n",
       "      <th>Medicare Insurance</th>\n",
       "      <th>Private Insurance</th>\n",
       "      <th>Child Health Plus Insurance</th>\n",
       "      <th>Other Insurance</th>\n",
       "      <th>Criminal Justice Status</th>\n",
       "      <th>Three Digit Residence Zip Code</th>\n",
       "    </tr>\n",
       "  </thead>\n",
       "  <tbody>\n",
       "    <tr>\n",
       "      <th>0</th>\n",
       "      <td>HUDSON RIVER REGION</td>\n",
       "      <td>ADULT</td>\n",
       "      <td>MALE</td>\n",
       "      <td>NO, NOT TRANSGENDER</td>\n",
       "      <td>STRAIGHT OR HETEROSEXUAL</td>\n",
       "      <td>YES</td>\n",
       "      <td>OTHER</td>\n",
       "      <td>OTHER LIVING SITUATION</td>\n",
       "      <td>NOT APPLICABLE</td>\n",
       "      <td>ENGLISH</td>\n",
       "      <td>...</td>\n",
       "      <td>NO</td>\n",
       "      <td>NO</td>\n",
       "      <td>YES</td>\n",
       "      <td>NO</td>\n",
       "      <td>NO</td>\n",
       "      <td>NO</td>\n",
       "      <td>NO</td>\n",
       "      <td>NO</td>\n",
       "      <td>YES</td>\n",
       "      <td>113</td>\n",
       "    </tr>\n",
       "    <tr>\n",
       "      <th>1</th>\n",
       "      <td>NEW YORK CITY REGION</td>\n",
       "      <td>ADULT</td>\n",
       "      <td>MALE</td>\n",
       "      <td>NO, NOT TRANSGENDER</td>\n",
       "      <td>STRAIGHT OR HETEROSEXUAL</td>\n",
       "      <td>NO, NOT HISPANIC/LATINO</td>\n",
       "      <td>WHITE ONLY</td>\n",
       "      <td>INSTITUTIONAL SETTING</td>\n",
       "      <td>NOT APPLICABLE</td>\n",
       "      <td>ENGLISH</td>\n",
       "      <td>...</td>\n",
       "      <td>NO</td>\n",
       "      <td>NO</td>\n",
       "      <td>YES</td>\n",
       "      <td>NO</td>\n",
       "      <td>UNKNOWN</td>\n",
       "      <td>NO</td>\n",
       "      <td>NO</td>\n",
       "      <td>UNKNOWN</td>\n",
       "      <td>YES</td>\n",
       "      <td>113</td>\n",
       "    </tr>\n",
       "    <tr>\n",
       "      <th>2</th>\n",
       "      <td>HUDSON RIVER REGION</td>\n",
       "      <td>ADULT</td>\n",
       "      <td>MALE</td>\n",
       "      <td>NO, NOT TRANSGENDER</td>\n",
       "      <td>STRAIGHT OR HETEROSEXUAL</td>\n",
       "      <td>NO, NOT HISPANIC/LATINO</td>\n",
       "      <td>WHITE ONLY</td>\n",
       "      <td>PRIVATE RESIDENCE</td>\n",
       "      <td>COHABITATES WITH OTHERS</td>\n",
       "      <td>ENGLISH</td>\n",
       "      <td>...</td>\n",
       "      <td>NO</td>\n",
       "      <td>NO</td>\n",
       "      <td>YES</td>\n",
       "      <td>NO</td>\n",
       "      <td>NO</td>\n",
       "      <td>NO</td>\n",
       "      <td>NO</td>\n",
       "      <td>NO</td>\n",
       "      <td>YES</td>\n",
       "      <td>107</td>\n",
       "    </tr>\n",
       "    <tr>\n",
       "      <th>3</th>\n",
       "      <td>NEW YORK CITY REGION</td>\n",
       "      <td>ADULT</td>\n",
       "      <td>FEMALE</td>\n",
       "      <td>NO, NOT TRANSGENDER</td>\n",
       "      <td>STRAIGHT OR HETEROSEXUAL</td>\n",
       "      <td>NO, NOT HISPANIC/LATINO</td>\n",
       "      <td>OTHER</td>\n",
       "      <td>OTHER LIVING SITUATION</td>\n",
       "      <td>NOT APPLICABLE</td>\n",
       "      <td>ASIAN AND PACIFIC ISLAND</td>\n",
       "      <td>...</td>\n",
       "      <td>YES</td>\n",
       "      <td>NO</td>\n",
       "      <td>NO</td>\n",
       "      <td>NOT APPLICABLE</td>\n",
       "      <td>NO</td>\n",
       "      <td>NO</td>\n",
       "      <td>NO</td>\n",
       "      <td>NO</td>\n",
       "      <td>YES</td>\n",
       "      <td>888</td>\n",
       "    </tr>\n",
       "    <tr>\n",
       "      <th>4</th>\n",
       "      <td>LONG ISLAND REGION</td>\n",
       "      <td>ADULT</td>\n",
       "      <td>MALE</td>\n",
       "      <td>NO, NOT TRANSGENDER</td>\n",
       "      <td>STRAIGHT OR HETEROSEXUAL</td>\n",
       "      <td>NO, NOT HISPANIC/LATINO</td>\n",
       "      <td>BLACK ONLY</td>\n",
       "      <td>OTHER LIVING SITUATION</td>\n",
       "      <td>NOT APPLICABLE</td>\n",
       "      <td>ENGLISH</td>\n",
       "      <td>...</td>\n",
       "      <td>NO</td>\n",
       "      <td>NO</td>\n",
       "      <td>YES</td>\n",
       "      <td>UNKNOWN</td>\n",
       "      <td>YES</td>\n",
       "      <td>NO</td>\n",
       "      <td>NO</td>\n",
       "      <td>NO</td>\n",
       "      <td>NO</td>\n",
       "      <td>117</td>\n",
       "    </tr>\n",
       "  </tbody>\n",
       "</table>\n",
       "<p>5 rows × 65 columns</p>\n",
       "</div>"
      ],
      "text/plain": [
       "          Region Served Age Group     Sex          Transgender  \\\n",
       "0   HUDSON RIVER REGION     ADULT    MALE  NO, NOT TRANSGENDER   \n",
       "1  NEW YORK CITY REGION     ADULT    MALE  NO, NOT TRANSGENDER   \n",
       "2   HUDSON RIVER REGION     ADULT    MALE  NO, NOT TRANSGENDER   \n",
       "3  NEW YORK CITY REGION     ADULT  FEMALE  NO, NOT TRANSGENDER   \n",
       "4    LONG ISLAND REGION     ADULT    MALE  NO, NOT TRANSGENDER   \n",
       "\n",
       "         Sexual Orientation       Hispanic Ethnicity        Race  \\\n",
       "0  STRAIGHT OR HETEROSEXUAL                      YES       OTHER   \n",
       "1  STRAIGHT OR HETEROSEXUAL  NO, NOT HISPANIC/LATINO  WHITE ONLY   \n",
       "2  STRAIGHT OR HETEROSEXUAL  NO, NOT HISPANIC/LATINO  WHITE ONLY   \n",
       "3  STRAIGHT OR HETEROSEXUAL  NO, NOT HISPANIC/LATINO       OTHER   \n",
       "4  STRAIGHT OR HETEROSEXUAL  NO, NOT HISPANIC/LATINO  BLACK ONLY   \n",
       "\n",
       "         Living Situation    Household Composition        Preferred Language  \\\n",
       "0  OTHER LIVING SITUATION           NOT APPLICABLE                   ENGLISH   \n",
       "1   INSTITUTIONAL SETTING           NOT APPLICABLE                   ENGLISH   \n",
       "2       PRIVATE RESIDENCE  COHABITATES WITH OTHERS                   ENGLISH   \n",
       "3  OTHER LIVING SITUATION           NOT APPLICABLE  ASIAN AND PACIFIC ISLAND   \n",
       "4  OTHER LIVING SITUATION           NOT APPLICABLE                   ENGLISH   \n",
       "\n",
       "   ... No Insurance Unknown Insurance Coverage Medicaid Insurance  \\\n",
       "0  ...           NO                         NO                YES   \n",
       "1  ...           NO                         NO                YES   \n",
       "2  ...           NO                         NO                YES   \n",
       "3  ...          YES                         NO                 NO   \n",
       "4  ...           NO                         NO                YES   \n",
       "\n",
       "  Medicaid Managed Insurance Medicare Insurance Private Insurance  \\\n",
       "0                         NO                 NO                NO   \n",
       "1                         NO            UNKNOWN                NO   \n",
       "2                         NO                 NO                NO   \n",
       "3             NOT APPLICABLE                 NO                NO   \n",
       "4                    UNKNOWN                YES                NO   \n",
       "\n",
       "  Child Health Plus Insurance Other Insurance Criminal Justice Status  \\\n",
       "0                          NO              NO                     YES   \n",
       "1                          NO         UNKNOWN                     YES   \n",
       "2                          NO              NO                     YES   \n",
       "3                          NO              NO                     YES   \n",
       "4                          NO              NO                      NO   \n",
       "\n",
       "  Three Digit Residence Zip Code  \n",
       "0                            113  \n",
       "1                            113  \n",
       "2                            107  \n",
       "3                            888  \n",
       "4                            117  \n",
       "\n",
       "[5 rows x 65 columns]"
      ]
     },
     "execution_count": 9,
     "metadata": {},
     "output_type": "execute_result"
    }
   ],
   "source": [
    "df.head()"
   ]
  },
  {
   "cell_type": "code",
   "execution_count": null,
   "metadata": {
    "collapsed": true
   },
   "outputs": [],
   "source": [
    "df.dtypes"
   ]
  },
  {
   "cell_type": "markdown",
   "metadata": {},
   "source": [
    "# Some Quick Data Exploration\n",
    "Before running any sort of model on your dataset, it's always a good idea to do some quick data exploration to get a sense of how your data looks like. Try to answer the following questions with some sort of plot/histogram/etc:\n",
    "\n",
    "1) What do the distributions of each feature look like?"
   ]
  },
  {
   "cell_type": "code",
   "execution_count": null,
   "metadata": {
    "collapsed": true
   },
   "outputs": [],
   "source": [
    "# Ex\n"
   ]
  },
  {
   "cell_type": "markdown",
   "metadata": {},
   "source": [
    "# Using scikitlearn for classification\n",
    "\n",
    "sklearn is a very useful python packager for building machiune learning models. To build a model in sklearn, you need to have a matrix (or dataframe) with X and y columns. X is your set of features/predictors. y is a single column that is your label. We'll take the foll;owing steps:\n",
    "\n",
    "1. Select/create column as label/outcome (y)\n",
    "2. Select/create columns as features (X)\n",
    "3. Create Training Set\n",
    "4. Create Validation Set\n",
    "5. Build model on Training Set\n",
    "6. Predict risk scores for the Validation Set\n",
    "7. Calculate performance metric(s)\n",
    "\n",
    "## Some useful things to know in sklearn\n",
    "\n",
    "fit = train an algorithm\n",
    "\n",
    "predict_proba = predict a \"risk\" score for all possible classes for a given record (classification only)\n",
    "\n",
    "\n",
    "## Important- never use .predict\n",
    "There is also a function called \"predict\" which first runs predict_probs and then predicts a 1 if the score > 0.5 and 0 otherwise. *Never* use that function since 0.5 is a completely arbitrary threshold to call a prediction 1 vs 0.\n",
    "\n"
   ]
  },
  {
   "cell_type": "markdown",
   "metadata": {},
   "source": [
    "## 1. Create label/outcome\n",
    "One thing we can do with this dataset is to try to use the various feature columns to classify whether a person has High Blood Pressure. Let's create a column that is 1 if a person has High Blood Pressure and 0 otherwise"
   ]
  },
  {
   "cell_type": "code",
   "execution_count": 10,
   "metadata": {
    "collapsed": true
   },
   "outputs": [],
   "source": [
    "# code\n",
    "df['HBP'] = np.where(df['High Blood Pressure']==\"YES\", 1, 0)"
   ]
  },
  {
   "cell_type": "markdown",
   "metadata": {},
   "source": [
    "### Question: what percentage of people have High Blood Pressure?"
   ]
  },
  {
   "cell_type": "code",
   "execution_count": 11,
   "metadata": {},
   "outputs": [
    {
     "data": {
      "text/plain": [
       "0.21600738092492217"
      ]
     },
     "execution_count": 11,
     "metadata": {},
     "output_type": "execute_result"
    }
   ],
   "source": [
    "# code\n",
    "df['HBP'].mean()"
   ]
  },
  {
   "cell_type": "markdown",
   "metadata": {},
   "source": [
    "## 2. create or select existing predictors/features\n",
    "\n",
    "For now, let's take a handful of existing columns to use.\n",
    "\n",
    "sklearn needs features to be numeric and not categorical so we'll have to turn our selected features to be binary (also known as dummy variables)"
   ]
  },
  {
   "cell_type": "code",
   "execution_count": 12,
   "metadata": {
    "scrolled": true
   },
   "outputs": [
    {
     "data": {
      "text/html": [
       "<div>\n",
       "<style scoped>\n",
       "    .dataframe tbody tr th:only-of-type {\n",
       "        vertical-align: middle;\n",
       "    }\n",
       "\n",
       "    .dataframe tbody tr th {\n",
       "        vertical-align: top;\n",
       "    }\n",
       "\n",
       "    .dataframe thead th {\n",
       "        text-align: right;\n",
       "    }\n",
       "</style>\n",
       "<table border=\"1\" class=\"dataframe\">\n",
       "  <thead>\n",
       "    <tr style=\"text-align: right;\">\n",
       "      <th></th>\n",
       "      <th>Region Served</th>\n",
       "      <th>Age Group</th>\n",
       "      <th>Transgender</th>\n",
       "      <th>Sexual Orientation</th>\n",
       "      <th>Hispanic Ethnicity</th>\n",
       "      <th>Living Situation</th>\n",
       "      <th>Household Composition</th>\n",
       "      <th>Preferred Language</th>\n",
       "      <th>Veteran Status</th>\n",
       "      <th>Employment Status</th>\n",
       "      <th>...</th>\n",
       "      <th>Drug Substance Disorder_YES</th>\n",
       "      <th>Drug Substance Disorder_nan</th>\n",
       "      <th>Criminal Justice Status_NO</th>\n",
       "      <th>Criminal Justice Status_UNKNOWN</th>\n",
       "      <th>Criminal Justice Status_YES</th>\n",
       "      <th>Criminal Justice Status_nan</th>\n",
       "      <th>Private Insurance_NO</th>\n",
       "      <th>Private Insurance_UNKNOWN</th>\n",
       "      <th>Private Insurance_YES</th>\n",
       "      <th>Private Insurance_nan</th>\n",
       "    </tr>\n",
       "  </thead>\n",
       "  <tbody>\n",
       "    <tr>\n",
       "      <th>0</th>\n",
       "      <td>HUDSON RIVER REGION</td>\n",
       "      <td>ADULT</td>\n",
       "      <td>NO, NOT TRANSGENDER</td>\n",
       "      <td>STRAIGHT OR HETEROSEXUAL</td>\n",
       "      <td>YES</td>\n",
       "      <td>OTHER LIVING SITUATION</td>\n",
       "      <td>NOT APPLICABLE</td>\n",
       "      <td>ENGLISH</td>\n",
       "      <td>NO</td>\n",
       "      <td>NOT IN LABOR FORCE:UNEMPLOYED AND NOT LOOKING ...</td>\n",
       "      <td>...</td>\n",
       "      <td>1</td>\n",
       "      <td>0</td>\n",
       "      <td>0</td>\n",
       "      <td>0</td>\n",
       "      <td>1</td>\n",
       "      <td>0</td>\n",
       "      <td>1</td>\n",
       "      <td>0</td>\n",
       "      <td>0</td>\n",
       "      <td>0</td>\n",
       "    </tr>\n",
       "    <tr>\n",
       "      <th>1</th>\n",
       "      <td>NEW YORK CITY REGION</td>\n",
       "      <td>ADULT</td>\n",
       "      <td>NO, NOT TRANSGENDER</td>\n",
       "      <td>STRAIGHT OR HETEROSEXUAL</td>\n",
       "      <td>NO, NOT HISPANIC/LATINO</td>\n",
       "      <td>INSTITUTIONAL SETTING</td>\n",
       "      <td>NOT APPLICABLE</td>\n",
       "      <td>ENGLISH</td>\n",
       "      <td>NO</td>\n",
       "      <td>NOT IN LABOR FORCE:UNEMPLOYED AND NOT LOOKING ...</td>\n",
       "      <td>...</td>\n",
       "      <td>1</td>\n",
       "      <td>0</td>\n",
       "      <td>0</td>\n",
       "      <td>0</td>\n",
       "      <td>1</td>\n",
       "      <td>0</td>\n",
       "      <td>1</td>\n",
       "      <td>0</td>\n",
       "      <td>0</td>\n",
       "      <td>0</td>\n",
       "    </tr>\n",
       "    <tr>\n",
       "      <th>2</th>\n",
       "      <td>HUDSON RIVER REGION</td>\n",
       "      <td>ADULT</td>\n",
       "      <td>NO, NOT TRANSGENDER</td>\n",
       "      <td>STRAIGHT OR HETEROSEXUAL</td>\n",
       "      <td>NO, NOT HISPANIC/LATINO</td>\n",
       "      <td>PRIVATE RESIDENCE</td>\n",
       "      <td>COHABITATES WITH OTHERS</td>\n",
       "      <td>ENGLISH</td>\n",
       "      <td>NO</td>\n",
       "      <td>NOT IN LABOR FORCE:UNEMPLOYED AND NOT LOOKING ...</td>\n",
       "      <td>...</td>\n",
       "      <td>0</td>\n",
       "      <td>0</td>\n",
       "      <td>0</td>\n",
       "      <td>0</td>\n",
       "      <td>1</td>\n",
       "      <td>0</td>\n",
       "      <td>1</td>\n",
       "      <td>0</td>\n",
       "      <td>0</td>\n",
       "      <td>0</td>\n",
       "    </tr>\n",
       "    <tr>\n",
       "      <th>3</th>\n",
       "      <td>NEW YORK CITY REGION</td>\n",
       "      <td>ADULT</td>\n",
       "      <td>NO, NOT TRANSGENDER</td>\n",
       "      <td>STRAIGHT OR HETEROSEXUAL</td>\n",
       "      <td>NO, NOT HISPANIC/LATINO</td>\n",
       "      <td>OTHER LIVING SITUATION</td>\n",
       "      <td>NOT APPLICABLE</td>\n",
       "      <td>ASIAN AND PACIFIC ISLAND</td>\n",
       "      <td>NO</td>\n",
       "      <td>NOT IN LABOR FORCE:UNEMPLOYED AND NOT LOOKING ...</td>\n",
       "      <td>...</td>\n",
       "      <td>0</td>\n",
       "      <td>0</td>\n",
       "      <td>0</td>\n",
       "      <td>0</td>\n",
       "      <td>1</td>\n",
       "      <td>0</td>\n",
       "      <td>1</td>\n",
       "      <td>0</td>\n",
       "      <td>0</td>\n",
       "      <td>0</td>\n",
       "    </tr>\n",
       "    <tr>\n",
       "      <th>4</th>\n",
       "      <td>LONG ISLAND REGION</td>\n",
       "      <td>ADULT</td>\n",
       "      <td>NO, NOT TRANSGENDER</td>\n",
       "      <td>STRAIGHT OR HETEROSEXUAL</td>\n",
       "      <td>NO, NOT HISPANIC/LATINO</td>\n",
       "      <td>OTHER LIVING SITUATION</td>\n",
       "      <td>NOT APPLICABLE</td>\n",
       "      <td>ENGLISH</td>\n",
       "      <td>NO</td>\n",
       "      <td>NOT IN LABOR FORCE:UNEMPLOYED AND NOT LOOKING ...</td>\n",
       "      <td>...</td>\n",
       "      <td>0</td>\n",
       "      <td>0</td>\n",
       "      <td>1</td>\n",
       "      <td>0</td>\n",
       "      <td>0</td>\n",
       "      <td>0</td>\n",
       "      <td>1</td>\n",
       "      <td>0</td>\n",
       "      <td>0</td>\n",
       "      <td>0</td>\n",
       "    </tr>\n",
       "  </tbody>\n",
       "</table>\n",
       "<p>5 rows × 91 columns</p>\n",
       "</div>"
      ],
      "text/plain": [
       "          Region Served Age Group          Transgender  \\\n",
       "0   HUDSON RIVER REGION     ADULT  NO, NOT TRANSGENDER   \n",
       "1  NEW YORK CITY REGION     ADULT  NO, NOT TRANSGENDER   \n",
       "2   HUDSON RIVER REGION     ADULT  NO, NOT TRANSGENDER   \n",
       "3  NEW YORK CITY REGION     ADULT  NO, NOT TRANSGENDER   \n",
       "4    LONG ISLAND REGION     ADULT  NO, NOT TRANSGENDER   \n",
       "\n",
       "         Sexual Orientation       Hispanic Ethnicity        Living Situation  \\\n",
       "0  STRAIGHT OR HETEROSEXUAL                      YES  OTHER LIVING SITUATION   \n",
       "1  STRAIGHT OR HETEROSEXUAL  NO, NOT HISPANIC/LATINO   INSTITUTIONAL SETTING   \n",
       "2  STRAIGHT OR HETEROSEXUAL  NO, NOT HISPANIC/LATINO       PRIVATE RESIDENCE   \n",
       "3  STRAIGHT OR HETEROSEXUAL  NO, NOT HISPANIC/LATINO  OTHER LIVING SITUATION   \n",
       "4  STRAIGHT OR HETEROSEXUAL  NO, NOT HISPANIC/LATINO  OTHER LIVING SITUATION   \n",
       "\n",
       "     Household Composition        Preferred Language Veteran Status  \\\n",
       "0           NOT APPLICABLE                   ENGLISH             NO   \n",
       "1           NOT APPLICABLE                   ENGLISH             NO   \n",
       "2  COHABITATES WITH OTHERS                   ENGLISH             NO   \n",
       "3           NOT APPLICABLE  ASIAN AND PACIFIC ISLAND             NO   \n",
       "4           NOT APPLICABLE                   ENGLISH             NO   \n",
       "\n",
       "                                   Employment Status  ...  \\\n",
       "0  NOT IN LABOR FORCE:UNEMPLOYED AND NOT LOOKING ...  ...   \n",
       "1  NOT IN LABOR FORCE:UNEMPLOYED AND NOT LOOKING ...  ...   \n",
       "2  NOT IN LABOR FORCE:UNEMPLOYED AND NOT LOOKING ...  ...   \n",
       "3  NOT IN LABOR FORCE:UNEMPLOYED AND NOT LOOKING ...  ...   \n",
       "4  NOT IN LABOR FORCE:UNEMPLOYED AND NOT LOOKING ...  ...   \n",
       "\n",
       "  Drug Substance Disorder_YES Drug Substance Disorder_nan  \\\n",
       "0                           1                           0   \n",
       "1                           1                           0   \n",
       "2                           0                           0   \n",
       "3                           0                           0   \n",
       "4                           0                           0   \n",
       "\n",
       "  Criminal Justice Status_NO Criminal Justice Status_UNKNOWN  \\\n",
       "0                          0                               0   \n",
       "1                          0                               0   \n",
       "2                          0                               0   \n",
       "3                          0                               0   \n",
       "4                          1                               0   \n",
       "\n",
       "  Criminal Justice Status_YES Criminal Justice Status_nan  \\\n",
       "0                           1                           0   \n",
       "1                           1                           0   \n",
       "2                           1                           0   \n",
       "3                           1                           0   \n",
       "4                           0                           0   \n",
       "\n",
       "  Private Insurance_NO Private Insurance_UNKNOWN Private Insurance_YES  \\\n",
       "0                    1                         0                     0   \n",
       "1                    1                         0                     0   \n",
       "2                    1                         0                     0   \n",
       "3                    1                         0                     0   \n",
       "4                    1                         0                     0   \n",
       "\n",
       "  Private Insurance_nan  \n",
       "0                     0  \n",
       "1                     0  \n",
       "2                     0  \n",
       "3                     0  \n",
       "4                     0  \n",
       "\n",
       "[5 rows x 91 columns]"
      ]
     },
     "execution_count": 12,
     "metadata": {},
     "output_type": "execute_result"
    }
   ],
   "source": [
    "# code\n",
    "cols_to_transform = [ 'Sex', 'Race', 'Obesity', 'Smokes', 'Alcohol Related Disorder','Drug Substance Disorder',\n",
    "                    'Criminal Justice Status','Private Insurance']\n",
    "df = pd.get_dummies( df, dummy_na=True, columns = cols_to_transform )\n",
    "df.head()"
   ]
  },
  {
   "cell_type": "markdown",
   "metadata": {},
   "source": [
    "Now let's define a vector of column names with only those dummy variables."
   ]
  },
  {
   "cell_type": "code",
   "execution_count": 13,
   "metadata": {
    "collapsed": true
   },
   "outputs": [],
   "source": [
    "# code\n",
    "selected_features = ['Sex_FEMALE','Sex_MALE','Sex_UNKNOWN','Race_BLACK ONLY','Race_MULTI-RACIAL','Race_OTHER',\n",
    "                     'Race_UNKNOWN RACE','Race_WHITE ONLY', 'Obesity_YES', 'Obesity_NO', 'Obesity_nan', \n",
    "                     'Smokes_YES', 'Smokes_NO','Alcohol Related Disorder_NO','Alcohol Related Disorder_YES',\n",
    "                    'Alcohol Related Disorder_UNKNOWN','Criminal Justice Status_YES','Criminal Justice Status_NO',\n",
    "                    'Criminal Justice Status_UNKNOWN','Private Insurance_NO','Private Insurance_YES','Private Insurance_UNKNOWN']"
   ]
  },
  {
   "cell_type": "markdown",
   "metadata": {},
   "source": [
    "# Train/Test Splits\n",
    "\n",
    "Create a train/test set split using sklearn's [train_test_split](http://scikit-learn.org/stable/modules/generated/sklearn.model_selection.train_test_split.html) function. We'll use these train/test splits for evaluating all our classification models."
   ]
  },
  {
   "cell_type": "code",
   "execution_count": 14,
   "metadata": {
    "collapsed": true
   },
   "outputs": [],
   "source": [
    "# code\n",
    "x = df[selected_features]\n",
    "y = df['HBP']\n",
    "test_size = 0.3 # you can adjust this\n",
    "x_train, x_test, y_train, y_test = train_test_split(x, y, test_size=test_size)"
   ]
  },
  {
   "cell_type": "markdown",
   "metadata": {
    "collapsed": true
   },
   "source": [
    "# Logistic Regression\n",
    "See the sklearn documentation on Logistic Regression to see its parameters. The one's we'll mostly be interested in are:\n",
    "- penalty\n",
    "- C"
   ]
  },
  {
   "cell_type": "markdown",
   "metadata": {},
   "source": [
    "Remember that when training a model, **you should only use the training data!** The test set is reserved exclusively for evaluating your model. Now let's use the classifier:"
   ]
  },
  {
   "cell_type": "code",
   "execution_count": 36,
   "metadata": {
    "collapsed": true
   },
   "outputs": [],
   "source": [
    "# code\n",
    "lr = LogisticRegression(random_state=0, solver='liblinear')\n",
    "lr.fit(x_train, y_train)\n",
    "pred_scores = lr.predict_proba(x_test)"
   ]
  },
  {
   "cell_type": "code",
   "execution_count": 37,
   "metadata": {},
   "outputs": [
    {
     "name": "stdout",
     "output_type": "stream",
     "text": [
      "[[0.75929133 0.24070867]\n",
      " [0.64513388 0.35486612]\n",
      " [0.75818005 0.24181995]\n",
      " ...\n",
      " [0.64228939 0.35771061]\n",
      " [0.82387763 0.17612237]\n",
      " [0.75929133 0.24070867]]\n"
     ]
    }
   ],
   "source": [
    "print(pred_scores)"
   ]
  },
  {
   "cell_type": "markdown",
   "metadata": {},
   "source": [
    "## Logistic Regression Tasks:\n",
    "\n",
    "The goal here is to explore different penalty parameters and different C values. You can also try modofyinfg other parameters to see their impact. How does accuracy change, using different thresholds, as you vary penalty and C values? You can write a nested for loop that loops over all the parameters and values and store the results in a data frame (similar to last lab)"
   ]
  },
  {
   "cell_type": "markdown",
   "metadata": {
    "collapsed": true
   },
   "source": [
    "Ref: http://scikit-learn.org/stable/modules/generated/sklearn.linear_model.LogisticRegression.html\n",
    "\n",
    "You'll notice that LogisticRegression takes a ton of parameters. We'll play around with the \"penalty\" and \"C\" parameters.\n",
    "If we set the penalty parameter to ['l2'](http://mathworld.wolfram.com/L2-Norm.html), sklearn's LogisticRegression model solves the following minimization problem:\n",
    "\n",
    "$$ \\min_{\\beta} ||\\beta||_2 + C \\sum_{i} \\log ( -y_i (X_i^T \\beta) +1)$$\n",
    "\n",
    "Similarly, if we set the penalty parameter to ['l1'](http://mathworld.wolfram.com/L2-Norm.html), LogisticRegression will solve the following minimization problem:\n",
    "\n",
    "$$\\min_{\\beta} ||\\beta||_1 + C \\sum_{i} \\log ( -y_i (X_i^T \\beta) +1)$$\n",
    "\n",
    "where $$||\\beta||_2 = \\sqrt { \\sum_{i} \\beta_i^2 }$$ and $$||\\beta||_1 =  \\sum_{i} | \\beta_i | $$ \n",
    "\n",
    "Try running logistic regression with both L1 and L2 penalties and a mix of C values. Something like $10^{-2}, 10^{-1}, 1, 10, 10^2)$ is reasonable."
   ]
  },
  {
   "cell_type": "code",
   "execution_count": 65,
   "metadata": {
    "scrolled": true
   },
   "outputs": [
    {
     "name": "stdout",
     "output_type": "stream",
     "text": [
      "The true number of HBP is 541/2602 from the data, with percentage 20.79%\n",
      "\n",
      "(Threshold: 0.1), the total number of predicted HBP is 2539, the accuracy is 0.23\n",
      "(Threshold: 0.2), the total number of predicted HBP is 1604, the accuracy is 0.48\n",
      "(Threshold: 0.25), the total number of predicted HBP is 578, the accuracy is 0.70\n",
      "(Threshold: 0.3), the total number of predicted HBP is 377, the accuracy is 0.74\n",
      "(Threshold: 0.35), the total number of predicted HBP is 291, the accuracy is 0.76\n",
      "(Threshold: 0.4), the total number of predicted HBP is 113, the accuracy is 0.78\n",
      "(Threshold: 0.5), the total number of predicted HBP is 0, the accuracy is 0.79\n",
      "(Threshold: 0.6), the total number of predicted HBP is 0, the accuracy is 0.79\n",
      "(Threshold: 0.7), the total number of predicted HBP is 0, the accuracy is 0.79\n"
     ]
    }
   ],
   "source": [
    "# we first choose a threshold to determine the pridiction \n",
    "print(\"The true number of HBP is {}/{} from the data, with percentage {:.2f}%\\n\".format(\n",
    "    sum(y_test), len(y_test), 100.*sum(y_test)/len(y_test)))\n",
    "for threshold in [0.1, 0.2, 0.25, 0.3, 0.35, 0.4, 0.5, 0.6, 0.7]:\n",
    "    pred_label = [1 if x[1]>threshold else 0 for x in pred_scores]\n",
    "    print(\"(Threshold: {}), the total number of predicted HBP is {}, the accuracy is {:.2f}\".format(\n",
    "        threshold, sum(pred_label), accuracy(pred_label,y_test)))"
   ]
  },
  {
   "cell_type": "markdown",
   "metadata": {},
   "source": [
    "It seems like 0.3 is a reasonable value. Then we fix the threshold and adjust penalty and the C value"
   ]
  },
  {
   "cell_type": "code",
   "execution_count": 96,
   "metadata": {},
   "outputs": [
    {
     "name": "stdout",
     "output_type": "stream",
     "text": [
      "(reg: l1, C: 0.01), the total number of predicted HBP is 504, the accuracy is 0.72\n",
      "(reg: l1, C: 0.1), the total number of predicted HBP is 394, the accuracy is 0.74\n",
      "(reg: l1, C: 1), the total number of predicted HBP is 376, the accuracy is 0.75\n",
      "(reg: l1, C: 10), the total number of predicted HBP is 372, the accuracy is 0.75\n",
      "(reg: l1, C: 100), the total number of predicted HBP is 377, the accuracy is 0.74\n",
      "\n",
      "(reg: l2, C: 0.01), the total number of predicted HBP is 397, the accuracy is 0.74\n",
      "(reg: l2, C: 0.1), the total number of predicted HBP is 378, the accuracy is 0.75\n",
      "(reg: l2, C: 1), the total number of predicted HBP is 372, the accuracy is 0.75\n",
      "(reg: l2, C: 10), the total number of predicted HBP is 377, the accuracy is 0.74\n",
      "(reg: l2, C: 100), the total number of predicted HBP is 377, the accuracy is 0.74\n",
      "\n"
     ]
    }
   ],
   "source": [
    "# code\n",
    "threshold = 0.3\n",
    "penalties = ['l1', 'l2']\n",
    "c_values = [10**-2, 10**-1, 1 , 10, 10**2]\n",
    "for norm in penalties:\n",
    "    for reg_strength in c_values:\n",
    "        lrf = LogisticRegression(random_state=0, solver='liblinear', penalty=norm, C=reg_strength).fit(x_train, y_train)\n",
    "        pred_scores = lrf.predict_proba(x_test)\n",
    "        pred_label = [1 if x[1]>threshold else 0 for x in pred_scores]\n",
    "        print(\"(reg: {}, C: {}), the total number of predicted HBP is {}, the accuracy is {:.2f}\".format(\n",
    "            norm, reg_strength, sum(pred_label), accuracy(pred_label,y_test)))\n",
    "    print"
   ]
  },
  {
   "cell_type": "markdown",
   "metadata": {},
   "source": [
    "## Understanding what's going on inside Logistic Regression"
   ]
  },
  {
   "cell_type": "markdown",
   "metadata": {},
   "source": [
    "To really see the difference between L1 and L2 regularization, we need to take a closer look at the models they produced. Plot a histogram of the weight values of LogisticRegression models for each C value. You can access these weight coefficients via the coef\\_ attribute in LogisticRegression. Do you notice anything interesting happening as the C value varies?"
   ]
  },
  {
   "cell_type": "code",
   "execution_count": 97,
   "metadata": {
    "collapsed": true
   },
   "outputs": [],
   "source": [
    "# code\n",
    "coefs = []\n",
    "\n",
    "for norm in penalties:\n",
    "    coef = []\n",
    "    for reg_strength in c_values:\n",
    "        lrf = LogisticRegression(random_state=0, solver='liblinear', penalty=norm, C=c_value).fit(x_train, y_train)\n",
    "        pred_scores = lrf.predict_proba(x_test)\n",
    "        pred_label = [1 if x[1]>threshold else 0 for x in pred_scores]\n",
    "        coef.append(lrf.coef_)\n",
    "    coefs.append(coef)"
   ]
  },
  {
   "cell_type": "code",
   "execution_count": 105,
   "metadata": {},
   "outputs": [
    {
     "data": {
      "image/png": "[encoded data removed]",
      "text/plain": [
       "<Figure size 432x288 with 1 Axes>"
      ]
     },
     "metadata": {
      "needs_background": "light"
     },
     "output_type": "display_data"
    },
    {
     "data": {
      "image/png": "[encoded data removed]",
      "text/plain": [
       "<Figure size 432x288 with 1 Axes>"
      ]
     },
     "metadata": {
      "needs_background": "light"
     },
     "output_type": "display_data"
    },
    {
     "data": {
      "image/png": "[encoded data removed]",
      "text/plain": [
       "<Figure size 432x288 with 1 Axes>"
      ]
     },
     "metadata": {
      "needs_background": "light"
     },
     "output_type": "display_data"
    },
    {
     "data": {
      "image/png": "[encoded data removed]",
      "text/plain": [
       "<Figure size 432x288 with 1 Axes>"
      ]
     },
     "metadata": {
      "needs_background": "light"
     },
     "output_type": "display_data"
    },
    {
     "data": {
      "image/png": "[encoded data removed]",
      "text/plain": [
       "<Figure size 432x288 with 1 Axes>"
      ]
     },
     "metadata": {
      "needs_background": "light"
     },
     "output_type": "display_data"
    },
    {
     "data": {
      "image/png": "[encoded data removed]",
      "text/plain": [
       "<Figure size 432x288 with 1 Axes>"
      ]
     },
     "metadata": {
      "needs_background": "light"
     },
     "output_type": "display_data"
    },
    {
     "data": {
      "image/png": "[encoded data removed]",
      "text/plain": [
       "<Figure size 432x288 with 1 Axes>"
      ]
     },
     "metadata": {
      "needs_background": "light"
     },
     "output_type": "display_data"
    },
    {
     "data": {
      "image/png": "[encoded data removed]",
      "text/plain": [
       "<Figure size 432x288 with 1 Axes>"
      ]
     },
     "metadata": {
      "needs_background": "light"
     },
     "output_type": "display_data"
    },
    {
     "data": {
      "image/png": "[encoded data removed]",
      "text/plain": [
       "<Figure size 432x288 with 1 Axes>"
      ]
     },
     "metadata": {
      "needs_background": "light"
     },
     "output_type": "display_data"
    },
    {
     "data": {
      "image/png": "[encoded data removed]",
      "text/plain": [
       "<Figure size 432x288 with 1 Axes>"
      ]
     },
     "metadata": {
      "needs_background": "light"
     },
     "output_type": "display_data"
    }
   ],
   "source": [
    "num_C = 5\n",
    "num_penalty = 2\n",
    "index = 1\n",
    "for p_i in range(num_penalty):\n",
    "    for c_i in range(num_C):\n",
    "        plt.hist(coefs[p_i][c_i], bins=30)\n",
    "        plt.title('Logistic Regression with %s penalty, C = %.2f' %(penalties[p_i], c_values[c_i]))\n",
    "        plt.xlabel('Weight values')\n",
    "        plt.ylabel('Frequency')\n",
    "        index += 1\n",
    "        plt.show()"
   ]
  },
  {
   "cell_type": "markdown",
   "metadata": {},
   "source": [
    "you can think of the \"C\" parameter as a way of specifying the tradeoff between the L1/L2 penalty and the negative log likelihood of the model. \n",
    "\n",
    "A small value of \"C\" means that we are assigning greater weight to the L1/L2 penalty(equivalently downweighting the negative log likelihood).\n",
    "\n",
    "L1 regularization induces sparse models - this can be a very useful if you suspect your classification target variable can be explained by few features.\n",
    "\n",
    "* Sparsity refers to that only very few entries in a matrix (or vector) is non-zero. L1-norm has the property of producing many coefficients with zero values or very small values with few large coefficients."
   ]
  },
  {
   "cell_type": "markdown",
   "metadata": {},
   "source": [
    "# Support Vector Machines"
   ]
  },
  {
   "cell_type": "markdown",
   "metadata": {},
   "source": [
    "Ref: https://scikit-learn.org/stable/modules/generated/sklearn.svm.LinearSVC.html#sklearn.svm.LinearSVC\n",
    "The SVM Classifier also takes quite a few parameters. For now we will use Linear SVMs. The model is called LinearSVC in sklearn.\n",
    "\n",
    "We will be playing with following parameters:\n",
    "* C: same as above\n",
    "\n",
    "SVM tries to find the hyperplane that maximizes the \"margin\" between the two classes of points. The \"C\" parameter in [SVC](http://scikit-learn.org/stable/modules/generated/sklearn.svm.SVC.html#sklearn.svm.SVC) has the same role as the \"C\" parameter in LogisticRegression: it tells you how much to penalize the \"size\" of the weight vector. Note that SVC only allows for L2 regularization.\n",
    "\n"
   ]
  },
  {
   "cell_type": "markdown",
   "metadata": {},
   "source": [
    "### Let's fit an SVM"
   ]
  },
  {
   "cell_type": "code",
   "execution_count": 117,
   "metadata": {},
   "outputs": [
    {
     "name": "stdout",
     "output_type": "stream",
     "text": [
      "[-0.51611687 -0.29820437 -0.51272115 -0.51611687 -0.35975434 -0.58490291\n",
      " -0.74248609 -0.58490291 -0.51611687 -0.57761275]\n",
      "the average of the confidence score is: -0.56\n"
     ]
    }
   ],
   "source": [
    "svm = LinearSVC(random_state=0, tol=1e-5)\n",
    "svm.fit(x_train, y_train)\n",
    "confidence_score = svm.decision_function(x_test)\n",
    "print(confidence_score[:10])\n",
    "print(\"the average of the confidence score is: %.2f\" % confidence_score.mean())"
   ]
  },
  {
   "cell_type": "markdown",
   "metadata": {},
   "source": [
    "### Now predict scores on the test set and plot the distribution of scores\n",
    "You might notice that the function you've been using to predict so far does not work. Is another function you need to use? Which one? Why?"
   ]
  },
  {
   "cell_type": "markdown",
   "metadata": {
    "collapsed": true
   },
   "source": [
    "The confidence score for a sample is the signed distance of that sample to the hyperplane.\n",
    "\n",
    "return:\n",
    "array, shape=(n_samples,) if n_classes == 2 else (n_samples, n_classes)\n",
    "\n",
    "Confidence scores per (sample, class) combination. In the binary case, confidence score for self.classes_[1] where >0 means this class would be predicted."
   ]
  },
  {
   "cell_type": "markdown",
   "metadata": {},
   "source": [
    "### now we can select a threshold and calculate accuracy"
   ]
  },
  {
   "cell_type": "code",
   "execution_count": 123,
   "metadata": {},
   "outputs": [
    {
     "name": "stdout",
     "output_type": "stream",
     "text": [
      "The true number of HBP is 541/2602 from the data, with percentage 20.79%\n",
      "\n",
      "(Threshold: -1), the total number of predicted HBP is 2598, the accuracy is 0.21\n",
      "(Threshold: -0.9), the total number of predicted HBP is 2581, the accuracy is 0.22\n",
      "(Threshold: -0.8), the total number of predicted HBP is 2460, the accuracy is 0.25\n",
      "(Threshold: -0.7), the total number of predicted HBP is 2130, the accuracy is 0.34\n",
      "(Threshold: -0.6), the total number of predicted HBP is 1638, the accuracy is 0.47\n",
      "(Threshold: -0.5), the total number of predicted HBP is 631, the accuracy is 0.69\n",
      "(Threshold: -0.4), the total number of predicted HBP is 393, the accuracy is 0.74\n",
      "(Threshold: -0.3), the total number of predicted HBP is 291, the accuracy is 0.76\n",
      "(Threshold: -0.2), the total number of predicted HBP is 26, the accuracy is 0.79\n",
      "(Threshold: -0.1), the total number of predicted HBP is 0, the accuracy is 0.79\n",
      "(Threshold: 0), the total number of predicted HBP is 0, the accuracy is 0.79\n"
     ]
    }
   ],
   "source": [
    "# code\n",
    "print(\"The true number of HBP is {}/{} from the data, with percentage {:.2f}%\\n\".format(\n",
    "    sum(y_test), len(y_test), 100.*sum(y_test)/len(y_test)))\n",
    "for threshold in [-1, -0.9, -0.8, -0.7, -0.6, -0.5, -0.4, -0.3, -0.2, -0.1, 0] : # , -0.6, ]:\n",
    "    pred_label = [1 if x >threshold else 0 for x in confidence_score]\n",
    "    print(\"(Threshold: {}), the total number of predicted HBP is {}, the accuracy is {:.2f}\".format(\n",
    "        threshold, sum(pred_label), accuracy(pred_label,y_test)))"
   ]
  },
  {
   "cell_type": "markdown",
   "metadata": {},
   "source": [
    "-0.4 is an ideal threshold."
   ]
  },
  {
   "cell_type": "markdown",
   "metadata": {},
   "source": [
    "### Let's now vary values of C and see the results."
   ]
  },
  {
   "cell_type": "code",
   "execution_count": 131,
   "metadata": {},
   "outputs": [
    {
     "name": "stdout",
     "output_type": "stream",
     "text": [
      "(C: 0.01), the total number of predicted HBP is 113, the accuracy is 0.78\n",
      "(C: 0.1), the total number of predicted HBP is 113, the accuracy is 0.78\n",
      "(C: 1), the total number of predicted HBP is 113, the accuracy is 0.78\n",
      "(C: 10), the total number of predicted HBP is 113, the accuracy is 0.78\n",
      "(C: 100), the total number of predicted HBP is 113, the accuracy is 0.78\n"
     ]
    }
   ],
   "source": [
    "# code\n",
    "threshold = -0.4\n",
    "c_values = [10**-2, 10**-1, 1 , 10, 10**2]\n",
    "for c_value in c_values:\n",
    "    svm = LinearSVC(random_state=0, tol=1e-5, C=c_value).fit(x_train, y_train)\n",
    "    confidence_score = lrf.decision_function(x_test)\n",
    "    pred_label = [1 if x > threshold else 0 for x in confidence_score]\n",
    "    print(\"(C: {}), the total number of predicted HBP is {}, the accuracy is {:.2f}\".format(\n",
    "        c_value, sum(pred_label), accuracy(pred_label, y_test)))"
   ]
  },
  {
   "cell_type": "markdown",
   "metadata": {},
   "source": [
    "Varing the value of C doesn't have much effect on accuracy for this dataset under the current setting of the model"
   ]
  },
  {
   "cell_type": "markdown",
   "metadata": {},
   "source": [
    "# Evaluation Metrics"
   ]
  },
  {
   "cell_type": "markdown",
   "metadata": {},
   "source": [
    "We covered several evaluation metrics in class:\n",
    "    - accuracy\n",
    "    - precision\n",
    "    - recall\n",
    "    - area under curve\n",
    "    - ROC curves\n",
    "    \n",
    "Although sklearn has built-in functions to calculate these metrics,\n",
    "in this lab we want to give you an understanding of these metrics \n",
    "by writing functions to calculate them yourself.\n",
    "\n",
    "Remember that accuracy, precision, and recall are calculated at a specific threshold for turning scores into 0 and 1.\n"
   ]
  },
  {
   "cell_type": "markdown",
   "metadata": {},
   "source": [
    "### Set Threshold\n"
   ]
  },
  {
   "cell_type": "code",
   "execution_count": 137,
   "metadata": {
    "collapsed": true
   },
   "outputs": [],
   "source": [
    "threshold = -0.4"
   ]
  },
  {
   "cell_type": "markdown",
   "metadata": {},
   "source": [
    "### We will first create a confusion matrix based on this threshold"
   ]
  },
  {
   "cell_type": "code",
   "execution_count": 138,
   "metadata": {
    "collapsed": true
   },
   "outputs": [],
   "source": [
    "svm = LinearSVC(random_state=0, tol=1e-5).fit(x_train, y_train)\n",
    "confidence_score = lrf.decision_function(x_test)\n",
    "pred_label = [1 if x > threshold else 0 for x in confidence_score]\n",
    "c = confusion_matrix(y_test, pred_label)"
   ]
  },
  {
   "cell_type": "markdown",
   "metadata": {},
   "source": [
    "I create a confusion matrix for our SVM classifier."
   ]
  },
  {
   "cell_type": "code",
   "execution_count": 141,
   "metadata": {},
   "outputs": [
    {
     "data": {
      "text/plain": [
       "(1987, 74, 502, 39)"
      ]
     },
     "execution_count": 141,
     "metadata": {},
     "output_type": "execute_result"
    }
   ],
   "source": [
    "true_negatives, false_positive, false_negatives, true_positives = c.ravel()\n",
    "(true_negatives, false_positive, false_negatives, true_positives)"
   ]
  },
  {
   "cell_type": "markdown",
   "metadata": {},
   "source": [
    "### Let's now write functions that can calculate each metric"
   ]
  },
  {
   "cell_type": "code",
   "execution_count": 164,
   "metadata": {
    "collapsed": true
   },
   "outputs": [],
   "source": [
    "def calculate_accuracy_at_threshold(predicted_scores, true_labels, threshold):\n",
    "    pred_label = [1 if x > threshold else 0 for x in predicted_scores]\n",
    "    true_negatives, false_positive, false_negatives, true_positives = confusion_matrix(y_test, pred_label).ravel()\n",
    "    return 1.0 * (true_positives + true_negatives) / (true_negatives + false_positive + false_negatives + true_positives)\n",
    "\n",
    "def calculate_precision_at_threshold(predicted_scores, true_labels, threshold):\n",
    "    pred_label = [1 if x > threshold else 0 for x in predicted_scores]\n",
    "    _, false_positive, _, true_positives = confusion_matrix(y_test, pred_label).ravel()\n",
    "    return 1.0 * true_positives / (false_positive + true_positives)\n",
    "\n",
    "def calculate_recall_at_threshold(predicted_scores, true_labels, threshold):\n",
    "    pred_label = [1 if x > threshold else 0 for x in predicted_scores]\n",
    "    _, _, false_negatives, true_positives = confusion_matrix(y_test, pred_label).ravel()\n",
    "    return 1.0 * true_positives / (false_negatives + true_positives)"
   ]
  },
  {
   "cell_type": "markdown",
   "metadata": {},
   "source": [
    "Accuracy = TP+TN/TP+FP+FN+TN\n",
    "\n",
    "Precision = TP/TP+FP\n",
    "\n",
    "Recall = TP/TP+FN"
   ]
  },
  {
   "cell_type": "markdown",
   "metadata": {},
   "source": [
    "### Now let's calculate all of these for a logistic regression model you built above"
   ]
  },
  {
   "cell_type": "code",
   "execution_count": 165,
   "metadata": {},
   "outputs": [
    {
     "name": "stdout",
     "output_type": "stream",
     "text": [
      "The accuracy is 0.75\n",
      "The precision is 0.34\n",
      "The recall is 0.23\n"
     ]
    }
   ],
   "source": [
    "threshold = 0.3\n",
    "lrf = LogisticRegression(random_state=0, solver='liblinear').fit(x_train, y_train)\n",
    "predicted_scores = lrf.predict_proba(x_test)\n",
    "# print(predicted_scores)\n",
    "# print(predicted_scores[:,1])\n",
    "\n",
    "print(\"The accuracy is %.2f\" % calculate_accuracy_at_threshold(predicted_scores[:,1], y_test, threshold))\n",
    "print(\"The precision is %.2f\" % calculate_precision_at_threshold(predicted_scores[:,1], y_test, threshold))\n",
    "print(\"The recall is %.2f\" % calculate_recall_at_threshold(predicted_scores[:,1], y_test, threshold))"
   ]
  },
  {
   "cell_type": "markdown",
   "metadata": {},
   "source": [
    "### Now let's write a function that generates the precision, recall, k (% of population) graph that we covered in class\n",
    "<img src=\"../imgs/prk.png\">\n"
   ]
  },
  {
   "cell_type": "code",
   "execution_count": 169,
   "metadata": {
    "collapsed": true
   },
   "outputs": [],
   "source": [
    "def plot_precision_recall_k(predicted_scores, true_labels):\n",
    "    precision, recall, thresholds = precision_recall_curve(true_labels, predicted_scores)\n",
    "    plt.plot(recall, precision, marker='.')\n",
    "    plt.show()"
   ]
  },
  {
   "cell_type": "markdown",
   "metadata": {},
   "source": [
    "### let's plot it for the same logistic regression model"
   ]
  },
  {
   "cell_type": "code",
   "execution_count": 170,
   "metadata": {},
   "outputs": [
    {
     "data": {
      "image/png": "[encoded data removed]",
      "text/plain": [
       "<Figure size 432x288 with 1 Axes>"
      ]
     },
     "metadata": {
      "needs_background": "light"
     },
     "output_type": "display_data"
    }
   ],
   "source": [
    "plot_precision_recall_k(predicted_scores[:,1], y_test)"
   ]
  },
  {
   "cell_type": "markdown",
   "metadata": {},
   "source": [
    "### Now we build the same graph for an svm model and compare the two. Which one is better?"
   ]
  },
  {
   "cell_type": "code",
   "execution_count": null,
   "metadata": {
    "collapsed": true
   },
   "outputs": [],
   "source": [
    "svm = LinearSVC(random_state=0, tol=1e-5).fit(x_train, y_train)\n",
    "confidence_score = lrf.decision_function(x_test)\n",
    "plot_precision_recall_k(predicted_scores[:,1], y_test)"
   ]
  }
 ],
 "metadata": {
  "kernelspec": {
   "display_name": "Python 3",
   "language": "python",
   "name": "python3"
  },
  "language_info": {
   "codemirror_mode": {
    "name": "ipython",
    "version": 3
   },
   "file_extension": ".py",
   "mimetype": "text/x-python",
   "name": "python",
   "nbconvert_exporter": "python",
   "pygments_lexer": "ipython3",
   "version": "3.6.3"
  }
 },
 "nbformat": 4,
 "nbformat_minor": 2
}
